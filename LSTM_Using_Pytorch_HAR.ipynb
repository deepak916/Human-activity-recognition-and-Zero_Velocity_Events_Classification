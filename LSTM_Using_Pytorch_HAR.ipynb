{
  "nbformat": 4,
  "nbformat_minor": 0,
  "metadata": {
    "kernelspec": {
      "display_name": "Python 3",
      "language": "python",
      "name": "python3"
    },
    "language_info": {
      "codemirror_mode": {
        "name": "ipython",
        "version": 3
      },
      "file_extension": ".py",
      "mimetype": "text/x-python",
      "name": "python",
      "nbconvert_exporter": "python",
      "pygments_lexer": "ipython3",
      "version": "3.6.4"
    },
    "colab": {
      "name": "LSTM_Using_Pytorch_HAR.ipynb",
      "provenance": [],
      "collapsed_sections": [
        "qU9bGYXwLsQ1"
      ]
    },
    "accelerator": "GPU"
  },
  "cells": [
    {
      "cell_type": "markdown",
      "metadata": {
        "id": "W6IbthZDGnCp"
      },
      "source": [
        "# LSTM (PyTorch)\n",
        "\n"
      ]
    },
    {
      "cell_type": "code",
      "metadata": {
        "colab": {
          "base_uri": "https://localhost:8080/"
        },
        "id": "l_cXK1dEGsQV",
        "outputId": "495b7147-b7ae-4349-f4ea-b377fc015c7c"
      },
      "source": [
        "from google.colab import drive\n",
        "drive.mount('/content/drive')"
      ],
      "execution_count": 2,
      "outputs": [
        {
          "output_type": "stream",
          "text": [
            "Mounted at /content/drive\n"
          ],
          "name": "stdout"
        }
      ]
    },
    {
      "cell_type": "code",
      "metadata": {
        "id": "hb0JQDY2GnC1"
      },
      "source": [
        "\n",
        "%matplotlib inline"
      ],
      "execution_count": 64,
      "outputs": []
    },
    {
      "cell_type": "code",
      "metadata": {
        "_cell_guid": "b1076dfc-b9ad-4769-8c92-a6c4dae69d19",
        "_uuid": "8f2839f25d086af736a60e9eeb907d3b93b6e0e5",
        "id": "-Sgmz_fuGnC3"
      },
      "source": [
        "from multiprocessing import cpu_count\n",
        "from pathlib import Path"
      ],
      "execution_count": 65,
      "outputs": []
    },
    {
      "cell_type": "code",
      "metadata": {
        "id": "CKbCsbXKGnC5"
      },
      "source": [
        "import matplotlib.pyplot as plt\n",
        "import numpy as np\n",
        "import pandas as pd\n",
        "from sklearn.model_selection import train_test_split\n",
        "from sklearn.preprocessing import LabelEncoder\n",
        "import torch\n",
        "from torch import nn\n",
        "from torch.nn import functional as F\n",
        "from torch.utils.data import TensorDataset, DataLoader\n",
        "from torch.optim.lr_scheduler import _LRScheduler"
      ],
      "execution_count": 66,
      "outputs": []
    },
    {
      "cell_type": "code",
      "metadata": {
        "id": "Y64VOo4RGnC6"
      },
      "source": [
        "seed = 1\n",
        "np.random.seed(seed)\n",
        "#torch.cuda.set_device(0)  # if you have more than one CUDA device"
      ],
      "execution_count": 67,
      "outputs": []
    },
    {
      "cell_type": "markdown",
      "metadata": {
        "id": "qU9bGYXwLsQ1"
      },
      "source": [
        "## Pre-processing"
      ]
    },
    {
      "cell_type": "code",
      "metadata": {
        "id": "YzUKjHuaqHkk"
      },
      "source": [
        "x_trn = pd.read_csv(\"/content/drive/MyDrive/PAM_AP2_Dataset/x_trn.csv\")\n",
        "x_tst = pd.read_csv(\"/content/drive/MyDrive/PAM_AP2_Dataset/x_tst.csv\")\n",
        "y_trn = pd.read_csv(\"/content/drive/MyDrive/PAM_AP2_Dataset/y_trn.csv\")"
      ],
      "execution_count": 7,
      "outputs": []
    },
    {
      "cell_type": "code",
      "metadata": {
        "colab": {
          "base_uri": "https://localhost:8080/"
        },
        "id": "fgxjb_miqiUD",
        "outputId": "85378ee9-c51b-4833-b252-8c43cfbbd5d8"
      },
      "source": [
        "x_trn.shape"
      ],
      "execution_count": 8,
      "outputs": [
        {
          "output_type": "execute_result",
          "data": {
            "text/plain": [
              "(77484, 11)"
            ]
          },
          "metadata": {
            "tags": []
          },
          "execution_count": 8
        }
      ]
    },
    {
      "cell_type": "code",
      "metadata": {
        "colab": {
          "base_uri": "https://localhost:8080/"
        },
        "id": "njFp3pglxRfx",
        "outputId": "b3edbc62-82e4-4bc9-f8cb-e99c65eb0738"
      },
      "source": [
        "x_tst.shape"
      ],
      "execution_count": 9,
      "outputs": [
        {
          "output_type": "execute_result",
          "data": {
            "text/plain": [
              "(30000, 11)"
            ]
          },
          "metadata": {
            "tags": []
          },
          "execution_count": 9
        }
      ]
    },
    {
      "cell_type": "code",
      "metadata": {
        "colab": {
          "base_uri": "https://localhost:8080/"
        },
        "id": "B7n9fSswxoA8",
        "outputId": "c69233cb-43e2-447b-dd40-23f5e065591b"
      },
      "source": [
        "y_trn.shape"
      ],
      "execution_count": 10,
      "outputs": [
        {
          "output_type": "execute_result",
          "data": {
            "text/plain": [
              "(107484, 4)"
            ]
          },
          "metadata": {
            "tags": []
          },
          "execution_count": 10
        }
      ]
    },
    {
      "cell_type": "code",
      "metadata": {
        "id": "pZWXhTk-HOi1"
      },
      "source": [
        "#y_tst = y_trn.tail(30000)"
      ],
      "execution_count": 89,
      "outputs": []
    },
    {
      "cell_type": "code",
      "metadata": {
        "id": "uy16MrlNqm3g"
      },
      "source": [
        "y_trn.drop(x_trn.columns[[0]], axis = 1, inplace = True)"
      ],
      "execution_count": 11,
      "outputs": []
    },
    {
      "cell_type": "code",
      "metadata": {
        "id": "SJzk5tdWHdLv"
      },
      "source": [
        "y_tst = y_trn.tail(30000)"
      ],
      "execution_count": 90,
      "outputs": []
    },
    {
      "cell_type": "code",
      "metadata": {
        "colab": {
          "base_uri": "https://localhost:8080/"
        },
        "id": "LKN_vAxNHgGU",
        "outputId": "c05765f0-3aca-4259-c595-bece35900404"
      },
      "source": [
        "y_tst.shape"
      ],
      "execution_count": 91,
      "outputs": [
        {
          "output_type": "execute_result",
          "data": {
            "text/plain": [
              "(30000, 3)"
            ]
          },
          "metadata": {
            "tags": []
          },
          "execution_count": 91
        }
      ]
    },
    {
      "cell_type": "code",
      "metadata": {
        "colab": {
          "base_uri": "https://localhost:8080/",
          "height": 204
        },
        "id": "xs-L8sKyvMHy",
        "outputId": "a4da64d0-fc0d-4ecf-e81a-18c1f536044c"
      },
      "source": [
        "y_trn.head()"
      ],
      "execution_count": 68,
      "outputs": [
        {
          "output_type": "execute_result",
          "data": {
            "text/html": [
              "<div>\n",
              "<style scoped>\n",
              "    .dataframe tbody tr th:only-of-type {\n",
              "        vertical-align: middle;\n",
              "    }\n",
              "\n",
              "    .dataframe tbody tr th {\n",
              "        vertical-align: top;\n",
              "    }\n",
              "\n",
              "    .dataframe thead th {\n",
              "        text-align: right;\n",
              "    }\n",
              "</style>\n",
              "<table border=\"1\" class=\"dataframe\">\n",
              "  <thead>\n",
              "    <tr style=\"text-align: right;\">\n",
              "      <th></th>\n",
              "      <th>time_stamp</th>\n",
              "      <th>activity_id</th>\n",
              "      <th>id</th>\n",
              "    </tr>\n",
              "  </thead>\n",
              "  <tbody>\n",
              "    <tr>\n",
              "      <th>0</th>\n",
              "      <td>1551.19</td>\n",
              "      <td>12</td>\n",
              "      <td>101</td>\n",
              "    </tr>\n",
              "    <tr>\n",
              "      <th>1</th>\n",
              "      <td>1551.20</td>\n",
              "      <td>12</td>\n",
              "      <td>101</td>\n",
              "    </tr>\n",
              "    <tr>\n",
              "      <th>2</th>\n",
              "      <td>1551.21</td>\n",
              "      <td>12</td>\n",
              "      <td>101</td>\n",
              "    </tr>\n",
              "    <tr>\n",
              "      <th>3</th>\n",
              "      <td>1551.22</td>\n",
              "      <td>12</td>\n",
              "      <td>101</td>\n",
              "    </tr>\n",
              "    <tr>\n",
              "      <th>4</th>\n",
              "      <td>1551.23</td>\n",
              "      <td>12</td>\n",
              "      <td>101</td>\n",
              "    </tr>\n",
              "  </tbody>\n",
              "</table>\n",
              "</div>"
            ],
            "text/plain": [
              "   time_stamp  activity_id   id\n",
              "0     1551.19           12  101\n",
              "1     1551.20           12  101\n",
              "2     1551.21           12  101\n",
              "3     1551.22           12  101\n",
              "4     1551.23           12  101"
            ]
          },
          "metadata": {
            "tags": []
          },
          "execution_count": 68
        }
      ]
    },
    {
      "cell_type": "code",
      "metadata": {
        "id": "pD9QR6rycWqZ"
      },
      "source": [
        "#y_trn.drop(y_trn.columns[[2]], axis = 1, inplace = True)"
      ],
      "execution_count": null,
      "outputs": []
    },
    {
      "cell_type": "code",
      "metadata": {
        "id": "QvQs531zc9KU"
      },
      "source": [
        "#y_trn"
      ],
      "execution_count": null,
      "outputs": []
    },
    {
      "cell_type": "code",
      "metadata": {
        "id": "iGun56V5dJx6"
      },
      "source": [
        "#y_trn.drop(y_trn.columns[[0]], axis = 1, inplace = True)"
      ],
      "execution_count": null,
      "outputs": []
    },
    {
      "cell_type": "code",
      "metadata": {
        "id": "TYgzsboSfJnD"
      },
      "source": [
        "#y_trn"
      ],
      "execution_count": null,
      "outputs": []
    },
    {
      "cell_type": "code",
      "metadata": {
        "id": "Xc1TIF8N6t4t"
      },
      "source": [
        "x_trn['Address'] = None\n",
        "#x_trn['Address_id'] = None\n"
      ],
      "execution_count": 13,
      "outputs": []
    },
    {
      "cell_type": "code",
      "metadata": {
        "id": "KLL2XgIuRoQ2"
      },
      "source": [
        "x_tst['Address'] = None\n",
        "#x_tst['Address_id'] = None"
      ],
      "execution_count": 14,
      "outputs": []
    },
    {
      "cell_type": "code",
      "metadata": {
        "colab": {
          "base_uri": "https://localhost:8080/"
        },
        "id": "lNhbV1Sw68TI",
        "outputId": "5e67a352-9b84-4386-f957-531c949f6a25"
      },
      "source": [
        "x_trn.shape"
      ],
      "execution_count": 15,
      "outputs": [
        {
          "output_type": "execute_result",
          "data": {
            "text/plain": [
              "(77484, 12)"
            ]
          },
          "metadata": {
            "tags": []
          },
          "execution_count": 15
        }
      ]
    },
    {
      "cell_type": "code",
      "metadata": {
        "id": "6zrKU8XxIT3X"
      },
      "source": [
        "x_trn"
      ],
      "execution_count": null,
      "outputs": []
    },
    {
      "cell_type": "code",
      "metadata": {
        "id": "Lt_4TkfZIbOt"
      },
      "source": [
        "x_trn.drop(x_trn.columns[[0]], axis = 1, inplace = True)"
      ],
      "execution_count": 17,
      "outputs": []
    },
    {
      "cell_type": "code",
      "metadata": {
        "id": "XUnvRL2DIeph"
      },
      "source": [
        "x_trn"
      ],
      "execution_count": null,
      "outputs": []
    },
    {
      "cell_type": "code",
      "metadata": {
        "colab": {
          "base_uri": "https://localhost:8080/"
        },
        "id": "8cl7E1BLIwJq",
        "outputId": "3e69860b-2cfe-44e0-b343-a233a63766a8"
      },
      "source": [
        "x_tst.shape"
      ],
      "execution_count": 19,
      "outputs": [
        {
          "output_type": "execute_result",
          "data": {
            "text/plain": [
              "(30000, 12)"
            ]
          },
          "metadata": {
            "tags": []
          },
          "execution_count": 19
        }
      ]
    },
    {
      "cell_type": "code",
      "metadata": {
        "id": "ygcIW60Q7twz"
      },
      "source": [
        "x_tst.drop(x_tst.columns[[0]], axis = 1, inplace = True)"
      ],
      "execution_count": 21,
      "outputs": []
    },
    {
      "cell_type": "code",
      "metadata": {
        "id": "RJb5Q2C871vK"
      },
      "source": [
        "x_tst"
      ],
      "execution_count": null,
      "outputs": []
    },
    {
      "cell_type": "markdown",
      "metadata": {
        "id": "i8YAlbBFGnC7"
      },
      "source": [
        "## Loading The Data\n"
      ]
    },
    {
      "cell_type": "code",
      "metadata": {
        "_cell_guid": "79c7e3d0-c299-4dcb-8224-4455121ee9b0",
        "_uuid": "d629ff2d2480ee46fbb7e2d37f6b5fab8052498a",
        "id": "bRo0LQNpGnC8"
      },
      "source": [
        "ID_COLS = ['Address']"
      ],
      "execution_count": null,
      "outputs": []
    },
    {
      "cell_type": "code",
      "metadata": {
        "colab": {
          "base_uri": "https://localhost:8080/"
        },
        "id": "XY1kJA9LwQ0D",
        "outputId": "014cc2a9-3fdc-4792-f328-89d2edae3130"
      },
      "source": [
        "x_trn.shape"
      ],
      "execution_count": 70,
      "outputs": [
        {
          "output_type": "execute_result",
          "data": {
            "text/plain": [
              "(77484, 11)"
            ]
          },
          "metadata": {
            "tags": []
          },
          "execution_count": 70
        }
      ]
    },
    {
      "cell_type": "code",
      "metadata": {
        "id": "khvR9Uf-UIiT"
      },
      "source": [
        "x_trn.head()"
      ],
      "execution_count": null,
      "outputs": []
    },
    {
      "cell_type": "code",
      "metadata": {
        "colab": {
          "base_uri": "https://localhost:8080/"
        },
        "id": "tc5MgYKnZOAJ",
        "outputId": "ea9c46e1-a3ab-4533-e776-32fa591e3ffc"
      },
      "source": [
        "len(x_trn)"
      ],
      "execution_count": 47,
      "outputs": [
        {
          "output_type": "execute_result",
          "data": {
            "text/plain": [
              "77484"
            ]
          },
          "metadata": {
            "tags": []
          },
          "execution_count": 47
        }
      ]
    },
    {
      "cell_type": "code",
      "metadata": {
        "id": "Z7xdgfXDYoHH"
      },
      "source": [
        "#x_trn['series_id'].value_counts()"
      ],
      "execution_count": null,
      "outputs": []
    },
    {
      "cell_type": "code",
      "metadata": {
        "colab": {
          "base_uri": "https://localhost:8080/"
        },
        "id": "MV1YIqqN9hD7",
        "outputId": "da0da4c9-bf0b-4fbb-8b4a-48ddd6089645"
      },
      "source": [
        "x_tst.shape"
      ],
      "execution_count": 48,
      "outputs": [
        {
          "output_type": "execute_result",
          "data": {
            "text/plain": [
              "(30000, 11)"
            ]
          },
          "metadata": {
            "tags": []
          },
          "execution_count": 48
        }
      ]
    },
    {
      "cell_type": "code",
      "metadata": {
        "colab": {
          "base_uri": "https://localhost:8080/"
        },
        "id": "TmtkJlVQZJpf",
        "outputId": "937c5ca0-2ebc-44a5-8369-e5b80216ff1f"
      },
      "source": [
        "len(x_tst)"
      ],
      "execution_count": 49,
      "outputs": [
        {
          "output_type": "execute_result",
          "data": {
            "text/plain": [
              "30000"
            ]
          },
          "metadata": {
            "tags": []
          },
          "execution_count": 49
        }
      ]
    },
    {
      "cell_type": "code",
      "metadata": {
        "colab": {
          "base_uri": "https://localhost:8080/",
          "height": 241
        },
        "id": "42sy7wW6UmsH",
        "outputId": "ce27ffd9-1350-4d45-98c2-a1ca6c051d7d"
      },
      "source": [
        "x_tst.head()"
      ],
      "execution_count": null,
      "outputs": [
        {
          "output_type": "execute_result",
          "data": {
            "text/html": [
              "<div>\n",
              "<style scoped>\n",
              "    .dataframe tbody tr th:only-of-type {\n",
              "        vertical-align: middle;\n",
              "    }\n",
              "\n",
              "    .dataframe tbody tr th {\n",
              "        vertical-align: top;\n",
              "    }\n",
              "\n",
              "    .dataframe thead th {\n",
              "        text-align: right;\n",
              "    }\n",
              "</style>\n",
              "<table border=\"1\" class=\"dataframe\">\n",
              "  <thead>\n",
              "    <tr style=\"text-align: right;\">\n",
              "      <th></th>\n",
              "      <th>Unnamed: 0</th>\n",
              "      <th>time_stamp</th>\n",
              "      <th>ankle_3D_acceleration_16_x</th>\n",
              "      <th>ankle_3D_acceleration_16_y</th>\n",
              "      <th>ankle_3D_acceleration_16_z</th>\n",
              "      <th>ankle_3D_acceleration_6_x</th>\n",
              "      <th>ankle_3D_acceleration_6_y</th>\n",
              "      <th>ankle_3D_acceleration_6_z</th>\n",
              "      <th>ankle_3D_gyroscope_x</th>\n",
              "      <th>ankle_3D_gyroscope_y</th>\n",
              "      <th>ankle_3D_gyroscope_z</th>\n",
              "      <th>id</th>\n",
              "    </tr>\n",
              "  </thead>\n",
              "  <tbody>\n",
              "    <tr>\n",
              "      <th>0</th>\n",
              "      <td>240454</td>\n",
              "      <td>2412.92</td>\n",
              "      <td>19.8924</td>\n",
              "      <td>-4.75177</td>\n",
              "      <td>-5.41677</td>\n",
              "      <td>19.0020</td>\n",
              "      <td>-3.10183</td>\n",
              "      <td>-4.10839</td>\n",
              "      <td>-1.18160</td>\n",
              "      <td>1.50162</td>\n",
              "      <td>-2.91111</td>\n",
              "      <td>101</td>\n",
              "    </tr>\n",
              "    <tr>\n",
              "      <th>1</th>\n",
              "      <td>240455</td>\n",
              "      <td>2412.93</td>\n",
              "      <td>18.4496</td>\n",
              "      <td>-7.00762</td>\n",
              "      <td>-7.03833</td>\n",
              "      <td>19.6417</td>\n",
              "      <td>-5.43260</td>\n",
              "      <td>-5.46646</td>\n",
              "      <td>-1.51205</td>\n",
              "      <td>1.52989</td>\n",
              "      <td>-2.89438</td>\n",
              "      <td>101</td>\n",
              "    </tr>\n",
              "    <tr>\n",
              "      <th>2</th>\n",
              "      <td>240456</td>\n",
              "      <td>2412.94</td>\n",
              "      <td>18.3991</td>\n",
              "      <td>-7.38385</td>\n",
              "      <td>-7.42241</td>\n",
              "      <td>18.3141</td>\n",
              "      <td>-7.29476</td>\n",
              "      <td>-6.67937</td>\n",
              "      <td>-1.73398</td>\n",
              "      <td>1.38642</td>\n",
              "      <td>-2.91837</td>\n",
              "      <td>101</td>\n",
              "    </tr>\n",
              "    <tr>\n",
              "      <th>3</th>\n",
              "      <td>240457</td>\n",
              "      <td>2412.95</td>\n",
              "      <td>20.6787</td>\n",
              "      <td>-6.37059</td>\n",
              "      <td>-7.71403</td>\n",
              "      <td>19.2584</td>\n",
              "      <td>-6.97758</td>\n",
              "      <td>-7.21514</td>\n",
              "      <td>-2.03219</td>\n",
              "      <td>1.19972</td>\n",
              "      <td>-2.91066</td>\n",
              "      <td>101</td>\n",
              "    </tr>\n",
              "    <tr>\n",
              "      <th>4</th>\n",
              "      <td>240458</td>\n",
              "      <td>2412.96</td>\n",
              "      <td>20.3223</td>\n",
              "      <td>-3.98849</td>\n",
              "      <td>-6.22748</td>\n",
              "      <td>20.4468</td>\n",
              "      <td>-6.26602</td>\n",
              "      <td>-6.87563</td>\n",
              "      <td>-2.30671</td>\n",
              "      <td>1.04641</td>\n",
              "      <td>-3.03571</td>\n",
              "      <td>101</td>\n",
              "    </tr>\n",
              "  </tbody>\n",
              "</table>\n",
              "</div>"
            ],
            "text/plain": [
              "   Unnamed: 0  time_stamp  ...  ankle_3D_gyroscope_z   id\n",
              "0      240454     2412.92  ...              -2.91111  101\n",
              "1      240455     2412.93  ...              -2.89438  101\n",
              "2      240456     2412.94  ...              -2.91837  101\n",
              "3      240457     2412.95  ...              -2.91066  101\n",
              "4      240458     2412.96  ...              -3.03571  101\n",
              "\n",
              "[5 rows x 12 columns]"
            ]
          },
          "metadata": {
            "tags": []
          },
          "execution_count": 31
        }
      ]
    },
    {
      "cell_type": "code",
      "metadata": {
        "colab": {
          "base_uri": "https://localhost:8080/"
        },
        "id": "eZhK2oO89loF",
        "outputId": "019dfe68-c9ab-4200-ff40-d46e541a7530"
      },
      "source": [
        "y_trn.shape"
      ],
      "execution_count": 71,
      "outputs": [
        {
          "output_type": "execute_result",
          "data": {
            "text/plain": [
              "(77484, 3)"
            ]
          },
          "metadata": {
            "tags": []
          },
          "execution_count": 71
        }
      ]
    },
    {
      "cell_type": "code",
      "metadata": {
        "id": "Itn7qM4_Tg3S"
      },
      "source": [
        "y_trn = y_trn.head(77484)"
      ],
      "execution_count": 51,
      "outputs": []
    },
    {
      "cell_type": "code",
      "metadata": {
        "colab": {
          "base_uri": "https://localhost:8080/"
        },
        "id": "fEBGcqDqZEuU",
        "outputId": "c07ce0ba-cfa6-44b9-82a6-b2923b23b960"
      },
      "source": [
        "len(y_trn)"
      ],
      "execution_count": 72,
      "outputs": [
        {
          "output_type": "execute_result",
          "data": {
            "text/plain": [
              "77484"
            ]
          },
          "metadata": {
            "tags": []
          },
          "execution_count": 72
        }
      ]
    },
    {
      "cell_type": "code",
      "metadata": {
        "colab": {
          "base_uri": "https://localhost:8080/",
          "height": 419
        },
        "id": "n_EJTCDyRCkp",
        "outputId": "0b8faf51-b689-488c-cb73-38b76070ed3e"
      },
      "source": [
        "y_trn"
      ],
      "execution_count": 73,
      "outputs": [
        {
          "output_type": "execute_result",
          "data": {
            "text/html": [
              "<div>\n",
              "<style scoped>\n",
              "    .dataframe tbody tr th:only-of-type {\n",
              "        vertical-align: middle;\n",
              "    }\n",
              "\n",
              "    .dataframe tbody tr th {\n",
              "        vertical-align: top;\n",
              "    }\n",
              "\n",
              "    .dataframe thead th {\n",
              "        text-align: right;\n",
              "    }\n",
              "</style>\n",
              "<table border=\"1\" class=\"dataframe\">\n",
              "  <thead>\n",
              "    <tr style=\"text-align: right;\">\n",
              "      <th></th>\n",
              "      <th>time_stamp</th>\n",
              "      <th>activity_id</th>\n",
              "      <th>id</th>\n",
              "    </tr>\n",
              "  </thead>\n",
              "  <tbody>\n",
              "    <tr>\n",
              "      <th>0</th>\n",
              "      <td>1551.19</td>\n",
              "      <td>12</td>\n",
              "      <td>101</td>\n",
              "    </tr>\n",
              "    <tr>\n",
              "      <th>1</th>\n",
              "      <td>1551.20</td>\n",
              "      <td>12</td>\n",
              "      <td>101</td>\n",
              "    </tr>\n",
              "    <tr>\n",
              "      <th>2</th>\n",
              "      <td>1551.21</td>\n",
              "      <td>12</td>\n",
              "      <td>101</td>\n",
              "    </tr>\n",
              "    <tr>\n",
              "      <th>3</th>\n",
              "      <td>1551.22</td>\n",
              "      <td>12</td>\n",
              "      <td>101</td>\n",
              "    </tr>\n",
              "    <tr>\n",
              "      <th>4</th>\n",
              "      <td>1551.23</td>\n",
              "      <td>12</td>\n",
              "      <td>101</td>\n",
              "    </tr>\n",
              "    <tr>\n",
              "      <th>...</th>\n",
              "      <td>...</td>\n",
              "      <td>...</td>\n",
              "      <td>...</td>\n",
              "    </tr>\n",
              "    <tr>\n",
              "      <th>77479</th>\n",
              "      <td>3177.52</td>\n",
              "      <td>5</td>\n",
              "      <td>101</td>\n",
              "    </tr>\n",
              "    <tr>\n",
              "      <th>77480</th>\n",
              "      <td>3177.53</td>\n",
              "      <td>5</td>\n",
              "      <td>101</td>\n",
              "    </tr>\n",
              "    <tr>\n",
              "      <th>77481</th>\n",
              "      <td>3177.54</td>\n",
              "      <td>5</td>\n",
              "      <td>101</td>\n",
              "    </tr>\n",
              "    <tr>\n",
              "      <th>77482</th>\n",
              "      <td>3177.55</td>\n",
              "      <td>5</td>\n",
              "      <td>101</td>\n",
              "    </tr>\n",
              "    <tr>\n",
              "      <th>77483</th>\n",
              "      <td>3177.56</td>\n",
              "      <td>5</td>\n",
              "      <td>101</td>\n",
              "    </tr>\n",
              "  </tbody>\n",
              "</table>\n",
              "<p>77484 rows × 3 columns</p>\n",
              "</div>"
            ],
            "text/plain": [
              "       time_stamp  activity_id   id\n",
              "0         1551.19           12  101\n",
              "1         1551.20           12  101\n",
              "2         1551.21           12  101\n",
              "3         1551.22           12  101\n",
              "4         1551.23           12  101\n",
              "...           ...          ...  ...\n",
              "77479     3177.52            5  101\n",
              "77480     3177.53            5  101\n",
              "77481     3177.54            5  101\n",
              "77482     3177.55            5  101\n",
              "77483     3177.56            5  101\n",
              "\n",
              "[77484 rows x 3 columns]"
            ]
          },
          "metadata": {
            "tags": []
          },
          "execution_count": 73
        }
      ]
    },
    {
      "cell_type": "code",
      "metadata": {
        "id": "3TzrEQd2WJNR"
      },
      "source": [
        "#y_trn['surface'].value_counts"
      ],
      "execution_count": null,
      "outputs": []
    },
    {
      "cell_type": "markdown",
      "metadata": {
        "id": "qGvvtcFeGnDC"
      },
      "source": [
        "## PyTorch "
      ]
    },
    {
      "cell_type": "code",
      "metadata": {
        "id": "lAAHRAPA6IgH"
      },
      "source": [
        "def create_datasets(X, y, test_size=0.2, dropcols=ID_COLS, time_dim_first=False):\n",
        "    enc = LabelEncoder()\n",
        "    y_enc = enc.fit_transform(y)\n",
        "    X_grouped = create_grouped_array(X)\n",
        "    if time_dim_first:\n",
        "        X_grouped = X_grouped.transpose(0, 2, 1)\n",
        "    X_train, X_valid, y_train, y_valid = train_test_split(X_grouped, y_enc, test_size=0.1)\n",
        "    X_train, X_valid = [torch.tensor(arr, dtype=torch.float32) for arr in (X_train, X_valid)]\n",
        "    y_train, y_valid = [torch.tensor(arr, dtype=torch.long) for arr in (y_train, y_valid)]\n",
        "    train_ds = TensorDataset(X_train, y_train)\n",
        "    valid_ds = TensorDataset(X_valid, y_valid)\n",
        "    return train_ds, valid_ds, enc\n",
        "\n",
        "\n",
        "def create_grouped_array(data, group_col='time_stamp', drop_cols=ID_COLS):\n",
        "    X_grouped = np.row_stack([\n",
        "        group.drop(columns=drop_cols).values[None]\n",
        "        for _, group in data.groupby(group_col)])\n",
        "    return X_grouped\n",
        "\n",
        "\n",
        "def create_test_dataset(X, drop_cols=ID_COLS):\n",
        "    X_grouped = np.row_stack([\n",
        "        group.drop(columns=drop_cols).values[None]\n",
        "        for _, group in X.groupby('time_stamp')])\n",
        "    X_grouped = torch.tensor(X_grouped.transpose(0, 2, 1)).float()\n",
        "    y_fake = torch.tensor([0] * len(X_grouped)).long()\n",
        "    return TensorDataset(X_grouped, y_fake)\n",
        "\n",
        "\n",
        "def create_loaders(train_ds, valid_ds, bs=512, jobs=0):\n",
        "    train_dl = DataLoader(train_ds, bs, shuffle=True, num_workers=jobs)\n",
        "    valid_dl = DataLoader(valid_ds, bs, shuffle=False, num_workers=jobs)\n",
        "    return train_dl, valid_dl\n",
        "\n",
        "\n",
        "def accuracy(output, target):\n",
        "    return (output.argmax(dim=1) == target).float().mean().item()"
      ],
      "execution_count": 74,
      "outputs": []
    },
    {
      "cell_type": "markdown",
      "metadata": {
        "id": "VMY11ntVGnDH"
      },
      "source": [
        "## Cyclic Learning Rate"
      ]
    },
    {
      "cell_type": "code",
      "metadata": {
        "id": "FeJt4yd6GnDI"
      },
      "source": [
        "class CyclicLR(_LRScheduler):\n",
        "    \n",
        "    def __init__(self, optimizer, schedule, last_epoch=-1):\n",
        "        assert callable(schedule)\n",
        "        self.schedule = schedule\n",
        "        super().__init__(optimizer, last_epoch)\n",
        "\n",
        "    def get_lr(self):\n",
        "        return [self.schedule(self.last_epoch, lr) for lr in self.base_lrs]"
      ],
      "execution_count": 75,
      "outputs": []
    },
    {
      "cell_type": "code",
      "metadata": {
        "id": "kUkUNViEGnDJ"
      },
      "source": [
        "def cosine(t_max, eta_min=0):\n",
        "    \n",
        "    def scheduler(epoch, base_lr):\n",
        "        t = epoch % t_max\n",
        "        return eta_min + (base_lr - eta_min)*(1 + np.cos(np.pi*t/t_max))/2\n",
        "    \n",
        "    return scheduler"
      ],
      "execution_count": 76,
      "outputs": []
    },
    {
      "cell_type": "code",
      "metadata": {
        "id": "1nrZe1j6GnDL"
      },
      "source": [
        "n = 100\n",
        "sched = cosine(n)\n",
        "lrs = [sched(t, 1) for t in range(n * 4)]\n",
        "plt.plot(lrs)"
      ],
      "execution_count": null,
      "outputs": []
    },
    {
      "cell_type": "markdown",
      "metadata": {
        "id": "5qMJn_0aGnDO"
      },
      "source": [
        "## The LSTM Model"
      ]
    },
    {
      "cell_type": "code",
      "metadata": {
        "id": "J720cKNOGnDP"
      },
      "source": [
        "class LSTMClassifier(nn.Module):\n",
        "    \n",
        "    \n",
        "    def __init__(self, input_dim, hidden_dim, layer_dim, output_dim):\n",
        "        super().__init__()\n",
        "        self.hidden_dim = hidden_dim\n",
        "        self.layer_dim = layer_dim\n",
        "        self.rnn = nn.LSTM(input_dim, hidden_dim, layer_dim, batch_first=True)\n",
        "        self.fc = nn.Linear(hidden_dim, output_dim)\n",
        "        self.batch_size = None\n",
        "        self.hidden = None\n",
        "    \n",
        "    def forward(self, x):\n",
        "        h0, c0 = self.init_hidden(x)\n",
        "        out, (hn, cn) = self.rnn(x, (h0, c0))\n",
        "        out = self.fc(out[:, -1, :])\n",
        "        return out\n",
        "    \n",
        "    def init_hidden(self, x):\n",
        "        h0 = torch.zeros(self.layer_dim, x.size(0), self.hidden_dim)\n",
        "        c0 = torch.zeros(self.layer_dim, x.size(0), self.hidden_dim)\n",
        "        return [t.cuda() for t in (h0, c0)]"
      ],
      "execution_count": 78,
      "outputs": []
    },
    {
      "cell_type": "code",
      "metadata": {
        "colab": {
          "base_uri": "https://localhost:8080/"
        },
        "id": "SWlGNnpDGnDQ",
        "outputId": "983cf742-d5fe-4fe2-867d-b7fead74a25a"
      },
      "source": [
        "print('Preparing datasets')\n",
        "trn_ds, val_ds, enc = create_datasets(x_trn, y_trn['activity_id'])"
      ],
      "execution_count": 79,
      "outputs": [
        {
          "output_type": "stream",
          "text": [
            "Preparing datasets\n"
          ],
          "name": "stdout"
        }
      ]
    },
    {
      "cell_type": "code",
      "metadata": {
        "colab": {
          "base_uri": "https://localhost:8080/"
        },
        "id": "PwLhdl8KGnDR",
        "outputId": "15ffa92c-0ae4-4a24-b7b2-8b05b446e676"
      },
      "source": [
        "bs = 128\n",
        "print(f'Creating data loaders with batch size: {bs}')\n",
        "trn_dl, val_dl = create_loaders(trn_ds, val_ds, bs, jobs=cpu_count())"
      ],
      "execution_count": 80,
      "outputs": [
        {
          "output_type": "stream",
          "text": [
            "Creating data loaders with batch size: 128\n"
          ],
          "name": "stdout"
        }
      ]
    },
    {
      "cell_type": "markdown",
      "metadata": {
        "id": "--UbmyrwGnDS"
      },
      "source": [
        "## Training Loop\n",
        "\n",
        "Finally, we are ready to bring everything together and train the model."
      ]
    },
    {
      "cell_type": "code",
      "metadata": {
        "colab": {
          "base_uri": "https://localhost:8080/"
        },
        "id": "DuQIXM5DMPw9",
        "outputId": "7830f6fb-ea3f-4e95-d24d-c9ca97d5f03a"
      },
      "source": [
        "len(trn_dl)"
      ],
      "execution_count": 81,
      "outputs": [
        {
          "output_type": "execute_result",
          "data": {
            "text/plain": [
              "545"
            ]
          },
          "metadata": {
            "tags": []
          },
          "execution_count": 81
        }
      ]
    },
    {
      "cell_type": "code",
      "metadata": {
        "colab": {
          "base_uri": "https://localhost:8080/"
        },
        "id": "2CxYBO3JGnDT",
        "outputId": "e95c6da9-e6d3-4e03-c083-488d0e28d3f4"
      },
      "source": [
        "input_dim = 10    \n",
        "hidden_dim = 256\n",
        "layer_dim = 3\n",
        "output_dim = 6\n",
        "seq_dim = 128\n",
        "\n",
        "lr = 0.0005\n",
        "n_epochs = 1000\n",
        "iterations_per_epoch = len(trn_dl)\n",
        "best_acc = 0\n",
        "patience, trials = 100, 0\n",
        "\n",
        "model = LSTMClassifier(input_dim, hidden_dim, layer_dim, output_dim)\n",
        "model = model.cuda()\n",
        "criterion = nn.CrossEntropyLoss()\n",
        "opt = torch.optim.RMSprop(model.parameters(), lr=lr)\n",
        "sched = CyclicLR(opt, cosine(t_max=iterations_per_epoch * 2, eta_min=lr/100))\n",
        "\n",
        "print('Start model training')\n",
        "\n",
        "for epoch in range(1, n_epochs + 1):\n",
        "    \n",
        "    for i, (x_batch, y_batch) in enumerate(trn_dl):\n",
        "        model.train()\n",
        "        x_batch = x_batch.cuda()\n",
        "        y_batch = y_batch.cuda()\n",
        "        sched.step()\n",
        "        opt.zero_grad()\n",
        "        out = model(x_batch)\n",
        "        loss = criterion(out, y_batch)\n",
        "        loss.backward()\n",
        "        opt.step()\n",
        "    \n",
        "    model.eval()\n",
        "    correct, total = 0, 0\n",
        "    for x_val, y_val in val_dl:\n",
        "        x_val, y_val = [t.cuda() for t in (x_val, y_val)]\n",
        "        out = model(x_val)\n",
        "        preds = F.log_softmax(out, dim=1).argmax(dim=1)\n",
        "        total += y_val.size(0)\n",
        "        correct += (preds == y_val).sum().item()\n",
        "    \n",
        "    acc = correct / total\n",
        "\n",
        "    if epoch % 5 == 0:\n",
        "        print(f'Epoch: {epoch:3d}. Loss: {loss.item():.4f}. Acc.: {acc:2.2%}')\n",
        "\n",
        "    if acc > best_acc:\n",
        "        trials = 0\n",
        "        best_acc = acc\n",
        "        torch.save(model.state_dict(), 'best.pth')\n",
        "        print(f'Epoch {epoch} best model saved with accuracy: {best_acc:2.2%}')\n",
        "    else:\n",
        "        trials += 1\n",
        "        if trials >= patience:\n",
        "            print(f'Early stopping on epoch {epoch}')\n",
        "            break"
      ],
      "execution_count": 82,
      "outputs": [
        {
          "output_type": "stream",
          "text": [
            "Start model training\n"
          ],
          "name": "stdout"
        },
        {
          "output_type": "stream",
          "text": [
            "/usr/local/lib/python3.7/dist-packages/torch/optim/lr_scheduler.py:134: UserWarning: Detected call of `lr_scheduler.step()` before `optimizer.step()`. In PyTorch 1.1.0 and later, you should call them in the opposite order: `optimizer.step()` before `lr_scheduler.step()`.  Failure to do this will result in PyTorch skipping the first value of the learning rate schedule. See more details at https://pytorch.org/docs/stable/optim.html#how-to-adjust-learning-rate\n",
            "  \"https://pytorch.org/docs/stable/optim.html#how-to-adjust-learning-rate\", UserWarning)\n"
          ],
          "name": "stderr"
        },
        {
          "output_type": "stream",
          "text": [
            "Epoch 1 best model saved with accuracy: 28.49%\n",
            "Epoch:   5. Loss: nan. Acc.: 28.49%\n",
            "Epoch:  10. Loss: nan. Acc.: 28.49%\n",
            "Epoch:  15. Loss: nan. Acc.: 28.49%\n",
            "Epoch:  20. Loss: nan. Acc.: 28.49%\n",
            "Epoch:  25. Loss: nan. Acc.: 28.49%\n",
            "Epoch:  30. Loss: nan. Acc.: 28.49%\n",
            "Epoch:  35. Loss: nan. Acc.: 28.49%\n",
            "Epoch:  40. Loss: nan. Acc.: 28.49%\n",
            "Epoch:  45. Loss: nan. Acc.: 28.49%\n",
            "Epoch:  50. Loss: nan. Acc.: 28.49%\n",
            "Epoch:  55. Loss: nan. Acc.: 28.49%\n",
            "Epoch:  60. Loss: nan. Acc.: 28.49%\n",
            "Epoch:  65. Loss: nan. Acc.: 28.49%\n",
            "Epoch:  70. Loss: nan. Acc.: 28.49%\n",
            "Epoch:  75. Loss: nan. Acc.: 28.49%\n",
            "Epoch:  80. Loss: nan. Acc.: 28.49%\n",
            "Epoch:  85. Loss: nan. Acc.: 28.49%\n",
            "Epoch:  90. Loss: nan. Acc.: 28.49%\n",
            "Epoch:  95. Loss: nan. Acc.: 28.49%\n",
            "Epoch: 100. Loss: nan. Acc.: 28.49%\n",
            "Early stopping on epoch 101\n"
          ],
          "name": "stdout"
        }
      ]
    },
    {
      "cell_type": "markdown",
      "metadata": {
        "id": "cD3RQRQdGnDW"
      },
      "source": [
        "## Eval"
      ]
    },
    {
      "cell_type": "code",
      "metadata": {
        "colab": {
          "base_uri": "https://localhost:8080/"
        },
        "id": "c3JLOyOXGnDX",
        "outputId": "7fc1fb98-27d3-4c27-9b11-9ae130fa304c"
      },
      "source": [
        "model.load_state_dict(torch.load('best.pth'))"
      ],
      "execution_count": null,
      "outputs": [
        {
          "output_type": "execute_result",
          "data": {
            "text/plain": [
              "<All keys matched successfully>"
            ]
          },
          "metadata": {
            "tags": []
          },
          "execution_count": 174
        }
      ]
    },
    {
      "cell_type": "code",
      "metadata": {
        "colab": {
          "base_uri": "https://localhost:8080/"
        },
        "id": "fYF2vVYcGnDY",
        "outputId": "649e0b88-d163-4118-bd71-0e1648bb1c97"
      },
      "source": [
        "model.eval()"
      ],
      "execution_count": 83,
      "outputs": [
        {
          "output_type": "execute_result",
          "data": {
            "text/plain": [
              "LSTMClassifier(\n",
              "  (rnn): LSTM(10, 256, num_layers=3, batch_first=True)\n",
              "  (fc): Linear(in_features=256, out_features=6, bias=True)\n",
              ")"
            ]
          },
          "metadata": {
            "tags": []
          },
          "execution_count": 83
        }
      ]
    },
    {
      "cell_type": "code",
      "metadata": {
        "id": "1TFPxIkJGnDZ"
      },
      "source": [
        "test_dl = DataLoader(create_test_dataset(x_tst), batch_size=64, shuffle=False)"
      ],
      "execution_count": 95,
      "outputs": []
    },
    {
      "cell_type": "code",
      "metadata": {
        "colab": {
          "base_uri": "https://localhost:8080/"
        },
        "id": "WunfwMlrGnDZ",
        "outputId": "08fab1a9-ed44-4fea-9424-afab84573eed"
      },
      "source": [
        "test = []\n",
        "print('Predicting on test dataset')\n",
        "for batch, _ in test_dl:\n",
        "    batch = batch.permute(0, 2, 1)\n",
        "    out = model(batch.cuda())\n",
        "    y_hat = F.log_softmax(out, dim=1).argmax(dim=1)\n",
        "    test += y_hat.tolist()"
      ],
      "execution_count": 96,
      "outputs": [
        {
          "output_type": "stream",
          "text": [
            "Predicting on test dataset\n"
          ],
          "name": "stdout"
        }
      ]
    },
    {
      "cell_type": "code",
      "metadata": {
        "colab": {
          "base_uri": "https://localhost:8080/"
        },
        "id": "ibkAIsLaKavm",
        "outputId": "4314a207-6c99-452d-c6a8-0c2627de3707"
      },
      "source": [
        "len(test)"
      ],
      "execution_count": 99,
      "outputs": [
        {
          "output_type": "execute_result",
          "data": {
            "text/plain": [
              "30000"
            ]
          },
          "metadata": {
            "tags": []
          },
          "execution_count": 99
        }
      ]
    }
  ]
}