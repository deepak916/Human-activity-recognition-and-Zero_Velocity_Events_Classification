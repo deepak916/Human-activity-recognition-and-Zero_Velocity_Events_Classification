{
  "nbformat": 4,
  "nbformat_minor": 0,
  "metadata": {
    "colab": {
      "name": "LSTM_Using_Pytorch_HAR.ipynb",
      "provenance": [],
      "collapsed_sections": []
    },
    "kernelspec": {
      "name": "python3",
      "display_name": "Python 3"
    },
    "language_info": {
      "name": "python"
    },
    "widgets": {
      "application/vnd.jupyter.widget-state+json": {
        "5a8337fe20f445b1b8ef1e2fc952349d": {
          "model_module": "@jupyter-widgets/controls",
          "model_name": "HBoxModel",
          "state": {
            "_view_name": "HBoxView",
            "_dom_classes": [],
            "_model_name": "HBoxModel",
            "_view_module": "@jupyter-widgets/controls",
            "_model_module_version": "1.5.0",
            "_view_count": null,
            "_view_module_version": "1.5.0",
            "box_style": "",
            "layout": "IPY_MODEL_c313038205bf4b19993a6544adf96835",
            "_model_module": "@jupyter-widgets/controls",
            "children": [
              "IPY_MODEL_ba72d15fe7da4901b348eaf6941855e9",
              "IPY_MODEL_f990afa3486146b2b1824cd27d2a335b"
            ]
          }
        },
        "c313038205bf4b19993a6544adf96835": {
          "model_module": "@jupyter-widgets/base",
          "model_name": "LayoutModel",
          "state": {
            "_view_name": "LayoutView",
            "grid_template_rows": null,
            "right": null,
            "justify_content": null,
            "_view_module": "@jupyter-widgets/base",
            "overflow": null,
            "_model_module_version": "1.2.0",
            "_view_count": null,
            "flex_flow": "row wrap",
            "width": "100%",
            "min_width": null,
            "border": null,
            "align_items": null,
            "bottom": null,
            "_model_module": "@jupyter-widgets/base",
            "top": null,
            "grid_column": null,
            "overflow_y": null,
            "overflow_x": null,
            "grid_auto_flow": null,
            "grid_area": null,
            "grid_template_columns": null,
            "flex": null,
            "_model_name": "LayoutModel",
            "justify_items": null,
            "grid_row": null,
            "max_height": null,
            "align_content": null,
            "visibility": null,
            "align_self": null,
            "height": null,
            "min_height": null,
            "padding": null,
            "grid_auto_rows": null,
            "grid_gap": null,
            "max_width": null,
            "order": null,
            "_view_module_version": "1.2.0",
            "grid_template_areas": null,
            "object_position": null,
            "object_fit": null,
            "grid_auto_columns": null,
            "margin": null,
            "display": "inline-flex",
            "left": null
          }
        },
        "ba72d15fe7da4901b348eaf6941855e9": {
          "model_module": "@jupyter-widgets/controls",
          "model_name": "FloatProgressModel",
          "state": {
            "_view_name": "ProgressView",
            "style": "IPY_MODEL_2a1ea8ea022f445f83952e7daca799f4",
            "_dom_classes": [],
            "description": "Validation sanity check:   0%",
            "_model_name": "FloatProgressModel",
            "bar_style": "danger",
            "max": 2,
            "_view_module": "@jupyter-widgets/controls",
            "_model_module_version": "1.5.0",
            "value": 0,
            "_view_count": null,
            "_view_module_version": "1.5.0",
            "orientation": "horizontal",
            "min": 0,
            "description_tooltip": null,
            "_model_module": "@jupyter-widgets/controls",
            "layout": "IPY_MODEL_936d23402c8d405b987a97d571072631"
          }
        },
        "f990afa3486146b2b1824cd27d2a335b": {
          "model_module": "@jupyter-widgets/controls",
          "model_name": "HTMLModel",
          "state": {
            "_view_name": "HTMLView",
            "style": "IPY_MODEL_a83e07108ea9410f8aa69ef34d37bbf8",
            "_dom_classes": [],
            "description": "",
            "_model_name": "HTMLModel",
            "placeholder": "​",
            "_view_module": "@jupyter-widgets/controls",
            "_model_module_version": "1.5.0",
            "value": " 0/2 [00:01&lt;?, ?it/s]",
            "_view_count": null,
            "_view_module_version": "1.5.0",
            "description_tooltip": null,
            "_model_module": "@jupyter-widgets/controls",
            "layout": "IPY_MODEL_c4fdf2ac10c6400487fa31e801b3b476"
          }
        },
        "2a1ea8ea022f445f83952e7daca799f4": {
          "model_module": "@jupyter-widgets/controls",
          "model_name": "ProgressStyleModel",
          "state": {
            "_view_name": "StyleView",
            "_model_name": "ProgressStyleModel",
            "description_width": "initial",
            "_view_module": "@jupyter-widgets/base",
            "_model_module_version": "1.5.0",
            "_view_count": null,
            "_view_module_version": "1.2.0",
            "bar_color": null,
            "_model_module": "@jupyter-widgets/controls"
          }
        },
        "936d23402c8d405b987a97d571072631": {
          "model_module": "@jupyter-widgets/base",
          "model_name": "LayoutModel",
          "state": {
            "_view_name": "LayoutView",
            "grid_template_rows": null,
            "right": null,
            "justify_content": null,
            "_view_module": "@jupyter-widgets/base",
            "overflow": null,
            "_model_module_version": "1.2.0",
            "_view_count": null,
            "flex_flow": null,
            "width": null,
            "min_width": null,
            "border": null,
            "align_items": null,
            "bottom": null,
            "_model_module": "@jupyter-widgets/base",
            "top": null,
            "grid_column": null,
            "overflow_y": null,
            "overflow_x": null,
            "grid_auto_flow": null,
            "grid_area": null,
            "grid_template_columns": null,
            "flex": "2",
            "_model_name": "LayoutModel",
            "justify_items": null,
            "grid_row": null,
            "max_height": null,
            "align_content": null,
            "visibility": null,
            "align_self": null,
            "height": null,
            "min_height": null,
            "padding": null,
            "grid_auto_rows": null,
            "grid_gap": null,
            "max_width": null,
            "order": null,
            "_view_module_version": "1.2.0",
            "grid_template_areas": null,
            "object_position": null,
            "object_fit": null,
            "grid_auto_columns": null,
            "margin": null,
            "display": null,
            "left": null
          }
        },
        "a83e07108ea9410f8aa69ef34d37bbf8": {
          "model_module": "@jupyter-widgets/controls",
          "model_name": "DescriptionStyleModel",
          "state": {
            "_view_name": "StyleView",
            "_model_name": "DescriptionStyleModel",
            "description_width": "",
            "_view_module": "@jupyter-widgets/base",
            "_model_module_version": "1.5.0",
            "_view_count": null,
            "_view_module_version": "1.2.0",
            "_model_module": "@jupyter-widgets/controls"
          }
        },
        "c4fdf2ac10c6400487fa31e801b3b476": {
          "model_module": "@jupyter-widgets/base",
          "model_name": "LayoutModel",
          "state": {
            "_view_name": "LayoutView",
            "grid_template_rows": null,
            "right": null,
            "justify_content": null,
            "_view_module": "@jupyter-widgets/base",
            "overflow": null,
            "_model_module_version": "1.2.0",
            "_view_count": null,
            "flex_flow": null,
            "width": null,
            "min_width": null,
            "border": null,
            "align_items": null,
            "bottom": null,
            "_model_module": "@jupyter-widgets/base",
            "top": null,
            "grid_column": null,
            "overflow_y": null,
            "overflow_x": null,
            "grid_auto_flow": null,
            "grid_area": null,
            "grid_template_columns": null,
            "flex": null,
            "_model_name": "LayoutModel",
            "justify_items": null,
            "grid_row": null,
            "max_height": null,
            "align_content": null,
            "visibility": null,
            "align_self": null,
            "height": null,
            "min_height": null,
            "padding": null,
            "grid_auto_rows": null,
            "grid_gap": null,
            "max_width": null,
            "order": null,
            "_view_module_version": "1.2.0",
            "grid_template_areas": null,
            "object_position": null,
            "object_fit": null,
            "grid_auto_columns": null,
            "margin": null,
            "display": null,
            "left": null
          }
        },
        "bc1d9c9e689447f7a426a7109ff9fd01": {
          "model_module": "@jupyter-widgets/controls",
          "model_name": "HBoxModel",
          "state": {
            "_view_name": "HBoxView",
            "_dom_classes": [],
            "_model_name": "HBoxModel",
            "_view_module": "@jupyter-widgets/controls",
            "_model_module_version": "1.5.0",
            "_view_count": null,
            "_view_module_version": "1.5.0",
            "box_style": "",
            "layout": "IPY_MODEL_3c3fefb5b41c4ee7a3ea6c38d0167d76",
            "_model_module": "@jupyter-widgets/controls",
            "children": [
              "IPY_MODEL_b21610fde5274498af9b3036117cd365",
              "IPY_MODEL_f53aceba223747d9ad50f3254dd4b6c1"
            ]
          }
        },
        "3c3fefb5b41c4ee7a3ea6c38d0167d76": {
          "model_module": "@jupyter-widgets/base",
          "model_name": "LayoutModel",
          "state": {
            "_view_name": "LayoutView",
            "grid_template_rows": null,
            "right": null,
            "justify_content": null,
            "_view_module": "@jupyter-widgets/base",
            "overflow": null,
            "_model_module_version": "1.2.0",
            "_view_count": null,
            "flex_flow": "row wrap",
            "width": "100%",
            "min_width": null,
            "border": null,
            "align_items": null,
            "bottom": null,
            "_model_module": "@jupyter-widgets/base",
            "top": null,
            "grid_column": null,
            "overflow_y": null,
            "overflow_x": null,
            "grid_auto_flow": null,
            "grid_area": null,
            "grid_template_columns": null,
            "flex": null,
            "_model_name": "LayoutModel",
            "justify_items": null,
            "grid_row": null,
            "max_height": null,
            "align_content": null,
            "visibility": null,
            "align_self": null,
            "height": null,
            "min_height": null,
            "padding": null,
            "grid_auto_rows": null,
            "grid_gap": null,
            "max_width": null,
            "order": null,
            "_view_module_version": "1.2.0",
            "grid_template_areas": null,
            "object_position": null,
            "object_fit": null,
            "grid_auto_columns": null,
            "margin": null,
            "display": "inline-flex",
            "left": null
          }
        },
        "b21610fde5274498af9b3036117cd365": {
          "model_module": "@jupyter-widgets/controls",
          "model_name": "FloatProgressModel",
          "state": {
            "_view_name": "ProgressView",
            "style": "IPY_MODEL_638831027b904baf8fb1d3a043a09131",
            "_dom_classes": [],
            "description": "Epoch 1: 100%",
            "_model_name": "FloatProgressModel",
            "bar_style": "success",
            "max": 111,
            "_view_module": "@jupyter-widgets/controls",
            "_model_module_version": "1.5.0",
            "value": 111,
            "_view_count": null,
            "_view_module_version": "1.5.0",
            "orientation": "horizontal",
            "min": 0,
            "description_tooltip": null,
            "_model_module": "@jupyter-widgets/controls",
            "layout": "IPY_MODEL_b3d2cc6f4de5431aab7ca99334dec6fa"
          }
        },
        "f53aceba223747d9ad50f3254dd4b6c1": {
          "model_module": "@jupyter-widgets/controls",
          "model_name": "HTMLModel",
          "state": {
            "_view_name": "HTMLView",
            "style": "IPY_MODEL_a2382021c1344ad39b81b542d20c003f",
            "_dom_classes": [],
            "description": "",
            "_model_name": "HTMLModel",
            "placeholder": "​",
            "_view_module": "@jupyter-widgets/controls",
            "_model_module_version": "1.5.0",
            "value": " 111/111 [00:06&lt;00:00, 17.70it/s, loss=1.78, v_num=1, val_loss=nan.0, val_accuracy=0.195, train_loss=1.780, train_accuracy=0.333]",
            "_view_count": null,
            "_view_module_version": "1.5.0",
            "description_tooltip": null,
            "_model_module": "@jupyter-widgets/controls",
            "layout": "IPY_MODEL_30753175644849bd9a8f771a8ea7badf"
          }
        },
        "638831027b904baf8fb1d3a043a09131": {
          "model_module": "@jupyter-widgets/controls",
          "model_name": "ProgressStyleModel",
          "state": {
            "_view_name": "StyleView",
            "_model_name": "ProgressStyleModel",
            "description_width": "initial",
            "_view_module": "@jupyter-widgets/base",
            "_model_module_version": "1.5.0",
            "_view_count": null,
            "_view_module_version": "1.2.0",
            "bar_color": null,
            "_model_module": "@jupyter-widgets/controls"
          }
        },
        "b3d2cc6f4de5431aab7ca99334dec6fa": {
          "model_module": "@jupyter-widgets/base",
          "model_name": "LayoutModel",
          "state": {
            "_view_name": "LayoutView",
            "grid_template_rows": null,
            "right": null,
            "justify_content": null,
            "_view_module": "@jupyter-widgets/base",
            "overflow": null,
            "_model_module_version": "1.2.0",
            "_view_count": null,
            "flex_flow": null,
            "width": null,
            "min_width": null,
            "border": null,
            "align_items": null,
            "bottom": null,
            "_model_module": "@jupyter-widgets/base",
            "top": null,
            "grid_column": null,
            "overflow_y": null,
            "overflow_x": null,
            "grid_auto_flow": null,
            "grid_area": null,
            "grid_template_columns": null,
            "flex": "2",
            "_model_name": "LayoutModel",
            "justify_items": null,
            "grid_row": null,
            "max_height": null,
            "align_content": null,
            "visibility": null,
            "align_self": null,
            "height": null,
            "min_height": null,
            "padding": null,
            "grid_auto_rows": null,
            "grid_gap": null,
            "max_width": null,
            "order": null,
            "_view_module_version": "1.2.0",
            "grid_template_areas": null,
            "object_position": null,
            "object_fit": null,
            "grid_auto_columns": null,
            "margin": null,
            "display": null,
            "left": null
          }
        },
        "a2382021c1344ad39b81b542d20c003f": {
          "model_module": "@jupyter-widgets/controls",
          "model_name": "DescriptionStyleModel",
          "state": {
            "_view_name": "StyleView",
            "_model_name": "DescriptionStyleModel",
            "description_width": "",
            "_view_module": "@jupyter-widgets/base",
            "_model_module_version": "1.5.0",
            "_view_count": null,
            "_view_module_version": "1.2.0",
            "_model_module": "@jupyter-widgets/controls"
          }
        },
        "30753175644849bd9a8f771a8ea7badf": {
          "model_module": "@jupyter-widgets/base",
          "model_name": "LayoutModel",
          "state": {
            "_view_name": "LayoutView",
            "grid_template_rows": null,
            "right": null,
            "justify_content": null,
            "_view_module": "@jupyter-widgets/base",
            "overflow": null,
            "_model_module_version": "1.2.0",
            "_view_count": null,
            "flex_flow": null,
            "width": null,
            "min_width": null,
            "border": null,
            "align_items": null,
            "bottom": null,
            "_model_module": "@jupyter-widgets/base",
            "top": null,
            "grid_column": null,
            "overflow_y": null,
            "overflow_x": null,
            "grid_auto_flow": null,
            "grid_area": null,
            "grid_template_columns": null,
            "flex": null,
            "_model_name": "LayoutModel",
            "justify_items": null,
            "grid_row": null,
            "max_height": null,
            "align_content": null,
            "visibility": null,
            "align_self": null,
            "height": null,
            "min_height": null,
            "padding": null,
            "grid_auto_rows": null,
            "grid_gap": null,
            "max_width": null,
            "order": null,
            "_view_module_version": "1.2.0",
            "grid_template_areas": null,
            "object_position": null,
            "object_fit": null,
            "grid_auto_columns": null,
            "margin": null,
            "display": null,
            "left": null
          }
        },
        "6c44fd48f2364efc9116605e2ac3c94d": {
          "model_module": "@jupyter-widgets/controls",
          "model_name": "HBoxModel",
          "state": {
            "_view_name": "HBoxView",
            "_dom_classes": [],
            "_model_name": "HBoxModel",
            "_view_module": "@jupyter-widgets/controls",
            "_model_module_version": "1.5.0",
            "_view_count": null,
            "_view_module_version": "1.5.0",
            "box_style": "",
            "layout": "IPY_MODEL_3994063205c741d88b2ee1692b4cb9d9",
            "_model_module": "@jupyter-widgets/controls",
            "children": [
              "IPY_MODEL_0efae397329c4ac4a1ba83054d4b7854",
              "IPY_MODEL_fceb6c2e55594a58bfa66d7f9fba6c44"
            ]
          }
        },
        "3994063205c741d88b2ee1692b4cb9d9": {
          "model_module": "@jupyter-widgets/base",
          "model_name": "LayoutModel",
          "state": {
            "_view_name": "LayoutView",
            "grid_template_rows": null,
            "right": null,
            "justify_content": null,
            "_view_module": "@jupyter-widgets/base",
            "overflow": null,
            "_model_module_version": "1.2.0",
            "_view_count": null,
            "flex_flow": "row wrap",
            "width": "100%",
            "min_width": null,
            "border": null,
            "align_items": null,
            "bottom": null,
            "_model_module": "@jupyter-widgets/base",
            "top": null,
            "grid_column": null,
            "overflow_y": null,
            "overflow_x": null,
            "grid_auto_flow": null,
            "grid_area": null,
            "grid_template_columns": null,
            "flex": null,
            "_model_name": "LayoutModel",
            "justify_items": null,
            "grid_row": null,
            "max_height": null,
            "align_content": null,
            "visibility": null,
            "align_self": null,
            "height": null,
            "min_height": null,
            "padding": null,
            "grid_auto_rows": null,
            "grid_gap": null,
            "max_width": null,
            "order": null,
            "_view_module_version": "1.2.0",
            "grid_template_areas": null,
            "object_position": null,
            "object_fit": null,
            "grid_auto_columns": null,
            "margin": null,
            "display": "inline-flex",
            "left": null
          }
        },
        "0efae397329c4ac4a1ba83054d4b7854": {
          "model_module": "@jupyter-widgets/controls",
          "model_name": "FloatProgressModel",
          "state": {
            "_view_name": "ProgressView",
            "style": "IPY_MODEL_4b1c336edefa48a8a3594227e5d3b26b",
            "_dom_classes": [],
            "description": "Validating: 100%",
            "_model_name": "FloatProgressModel",
            "bar_style": "info",
            "max": 109,
            "_view_module": "@jupyter-widgets/controls",
            "_model_module_version": "1.5.0",
            "value": 109,
            "_view_count": null,
            "_view_module_version": "1.5.0",
            "orientation": "horizontal",
            "min": 0,
            "description_tooltip": null,
            "_model_module": "@jupyter-widgets/controls",
            "layout": "IPY_MODEL_ce3b9658c31e4d54b45f359ee5183c95"
          }
        },
        "fceb6c2e55594a58bfa66d7f9fba6c44": {
          "model_module": "@jupyter-widgets/controls",
          "model_name": "HTMLModel",
          "state": {
            "_view_name": "HTMLView",
            "style": "IPY_MODEL_2160c7490c6a4ba3ba4a6e21f7f89ce7",
            "_dom_classes": [],
            "description": "",
            "_model_name": "HTMLModel",
            "placeholder": "​",
            "_view_module": "@jupyter-widgets/controls",
            "_model_module_version": "1.5.0",
            "value": " 109/109 [00:06&lt;00:00, 15.71it/s]",
            "_view_count": null,
            "_view_module_version": "1.5.0",
            "description_tooltip": null,
            "_model_module": "@jupyter-widgets/controls",
            "layout": "IPY_MODEL_1246d6408451428f81d69ab34c58ad11"
          }
        },
        "4b1c336edefa48a8a3594227e5d3b26b": {
          "model_module": "@jupyter-widgets/controls",
          "model_name": "ProgressStyleModel",
          "state": {
            "_view_name": "StyleView",
            "_model_name": "ProgressStyleModel",
            "description_width": "initial",
            "_view_module": "@jupyter-widgets/base",
            "_model_module_version": "1.5.0",
            "_view_count": null,
            "_view_module_version": "1.2.0",
            "bar_color": null,
            "_model_module": "@jupyter-widgets/controls"
          }
        },
        "ce3b9658c31e4d54b45f359ee5183c95": {
          "model_module": "@jupyter-widgets/base",
          "model_name": "LayoutModel",
          "state": {
            "_view_name": "LayoutView",
            "grid_template_rows": null,
            "right": null,
            "justify_content": null,
            "_view_module": "@jupyter-widgets/base",
            "overflow": null,
            "_model_module_version": "1.2.0",
            "_view_count": null,
            "flex_flow": null,
            "width": null,
            "min_width": null,
            "border": null,
            "align_items": null,
            "bottom": null,
            "_model_module": "@jupyter-widgets/base",
            "top": null,
            "grid_column": null,
            "overflow_y": null,
            "overflow_x": null,
            "grid_auto_flow": null,
            "grid_area": null,
            "grid_template_columns": null,
            "flex": "2",
            "_model_name": "LayoutModel",
            "justify_items": null,
            "grid_row": null,
            "max_height": null,
            "align_content": null,
            "visibility": null,
            "align_self": null,
            "height": null,
            "min_height": null,
            "padding": null,
            "grid_auto_rows": null,
            "grid_gap": null,
            "max_width": null,
            "order": null,
            "_view_module_version": "1.2.0",
            "grid_template_areas": null,
            "object_position": null,
            "object_fit": null,
            "grid_auto_columns": null,
            "margin": null,
            "display": null,
            "left": null
          }
        },
        "2160c7490c6a4ba3ba4a6e21f7f89ce7": {
          "model_module": "@jupyter-widgets/controls",
          "model_name": "DescriptionStyleModel",
          "state": {
            "_view_name": "StyleView",
            "_model_name": "DescriptionStyleModel",
            "description_width": "",
            "_view_module": "@jupyter-widgets/base",
            "_model_module_version": "1.5.0",
            "_view_count": null,
            "_view_module_version": "1.2.0",
            "_model_module": "@jupyter-widgets/controls"
          }
        },
        "1246d6408451428f81d69ab34c58ad11": {
          "model_module": "@jupyter-widgets/base",
          "model_name": "LayoutModel",
          "state": {
            "_view_name": "LayoutView",
            "grid_template_rows": null,
            "right": null,
            "justify_content": null,
            "_view_module": "@jupyter-widgets/base",
            "overflow": null,
            "_model_module_version": "1.2.0",
            "_view_count": null,
            "flex_flow": null,
            "width": null,
            "min_width": null,
            "border": null,
            "align_items": null,
            "bottom": null,
            "_model_module": "@jupyter-widgets/base",
            "top": null,
            "grid_column": null,
            "overflow_y": null,
            "overflow_x": null,
            "grid_auto_flow": null,
            "grid_area": null,
            "grid_template_columns": null,
            "flex": null,
            "_model_name": "LayoutModel",
            "justify_items": null,
            "grid_row": null,
            "max_height": null,
            "align_content": null,
            "visibility": null,
            "align_self": null,
            "height": null,
            "min_height": null,
            "padding": null,
            "grid_auto_rows": null,
            "grid_gap": null,
            "max_width": null,
            "order": null,
            "_view_module_version": "1.2.0",
            "grid_template_areas": null,
            "object_position": null,
            "object_fit": null,
            "grid_auto_columns": null,
            "margin": null,
            "display": null,
            "left": null
          }
        },
        "28239826a6094c1d905d1e6d0224d149": {
          "model_module": "@jupyter-widgets/controls",
          "model_name": "HBoxModel",
          "state": {
            "_view_name": "HBoxView",
            "_dom_classes": [],
            "_model_name": "HBoxModel",
            "_view_module": "@jupyter-widgets/controls",
            "_model_module_version": "1.5.0",
            "_view_count": null,
            "_view_module_version": "1.5.0",
            "box_style": "",
            "layout": "IPY_MODEL_bb289dd13169428ba901c5533ded576e",
            "_model_module": "@jupyter-widgets/controls",
            "children": [
              "IPY_MODEL_2b0dca4c7c48479987a435329ffb05d6",
              "IPY_MODEL_4838830dfc32436fa51f3a099aec48b2"
            ]
          }
        },
        "bb289dd13169428ba901c5533ded576e": {
          "model_module": "@jupyter-widgets/base",
          "model_name": "LayoutModel",
          "state": {
            "_view_name": "LayoutView",
            "grid_template_rows": null,
            "right": null,
            "justify_content": null,
            "_view_module": "@jupyter-widgets/base",
            "overflow": null,
            "_model_module_version": "1.2.0",
            "_view_count": null,
            "flex_flow": "row wrap",
            "width": "100%",
            "min_width": null,
            "border": null,
            "align_items": null,
            "bottom": null,
            "_model_module": "@jupyter-widgets/base",
            "top": null,
            "grid_column": null,
            "overflow_y": null,
            "overflow_x": null,
            "grid_auto_flow": null,
            "grid_area": null,
            "grid_template_columns": null,
            "flex": null,
            "_model_name": "LayoutModel",
            "justify_items": null,
            "grid_row": null,
            "max_height": null,
            "align_content": null,
            "visibility": null,
            "align_self": null,
            "height": null,
            "min_height": null,
            "padding": null,
            "grid_auto_rows": null,
            "grid_gap": null,
            "max_width": null,
            "order": null,
            "_view_module_version": "1.2.0",
            "grid_template_areas": null,
            "object_position": null,
            "object_fit": null,
            "grid_auto_columns": null,
            "margin": null,
            "display": "inline-flex",
            "left": null
          }
        },
        "2b0dca4c7c48479987a435329ffb05d6": {
          "model_module": "@jupyter-widgets/controls",
          "model_name": "FloatProgressModel",
          "state": {
            "_view_name": "ProgressView",
            "style": "IPY_MODEL_5b07ee254533485db2c49b4d68e5acb1",
            "_dom_classes": [],
            "description": "Validating: 100%",
            "_model_name": "FloatProgressModel",
            "bar_style": "info",
            "max": 109,
            "_view_module": "@jupyter-widgets/controls",
            "_model_module_version": "1.5.0",
            "value": 109,
            "_view_count": null,
            "_view_module_version": "1.5.0",
            "orientation": "horizontal",
            "min": 0,
            "description_tooltip": null,
            "_model_module": "@jupyter-widgets/controls",
            "layout": "IPY_MODEL_ed787d9038fa4390a31c33ff74214e39"
          }
        },
        "4838830dfc32436fa51f3a099aec48b2": {
          "model_module": "@jupyter-widgets/controls",
          "model_name": "HTMLModel",
          "state": {
            "_view_name": "HTMLView",
            "style": "IPY_MODEL_e6ece6ad3129495681f35deb103a12a8",
            "_dom_classes": [],
            "description": "",
            "_model_name": "HTMLModel",
            "placeholder": "​",
            "_view_module": "@jupyter-widgets/controls",
            "_model_module_version": "1.5.0",
            "value": " 109/109 [00:05&lt;00:00, 19.12it/s]",
            "_view_count": null,
            "_view_module_version": "1.5.0",
            "description_tooltip": null,
            "_model_module": "@jupyter-widgets/controls",
            "layout": "IPY_MODEL_21754d1765ac4a9eb984cb68c4ae9b22"
          }
        },
        "5b07ee254533485db2c49b4d68e5acb1": {
          "model_module": "@jupyter-widgets/controls",
          "model_name": "ProgressStyleModel",
          "state": {
            "_view_name": "StyleView",
            "_model_name": "ProgressStyleModel",
            "description_width": "initial",
            "_view_module": "@jupyter-widgets/base",
            "_model_module_version": "1.5.0",
            "_view_count": null,
            "_view_module_version": "1.2.0",
            "bar_color": null,
            "_model_module": "@jupyter-widgets/controls"
          }
        },
        "ed787d9038fa4390a31c33ff74214e39": {
          "model_module": "@jupyter-widgets/base",
          "model_name": "LayoutModel",
          "state": {
            "_view_name": "LayoutView",
            "grid_template_rows": null,
            "right": null,
            "justify_content": null,
            "_view_module": "@jupyter-widgets/base",
            "overflow": null,
            "_model_module_version": "1.2.0",
            "_view_count": null,
            "flex_flow": null,
            "width": null,
            "min_width": null,
            "border": null,
            "align_items": null,
            "bottom": null,
            "_model_module": "@jupyter-widgets/base",
            "top": null,
            "grid_column": null,
            "overflow_y": null,
            "overflow_x": null,
            "grid_auto_flow": null,
            "grid_area": null,
            "grid_template_columns": null,
            "flex": "2",
            "_model_name": "LayoutModel",
            "justify_items": null,
            "grid_row": null,
            "max_height": null,
            "align_content": null,
            "visibility": null,
            "align_self": null,
            "height": null,
            "min_height": null,
            "padding": null,
            "grid_auto_rows": null,
            "grid_gap": null,
            "max_width": null,
            "order": null,
            "_view_module_version": "1.2.0",
            "grid_template_areas": null,
            "object_position": null,
            "object_fit": null,
            "grid_auto_columns": null,
            "margin": null,
            "display": null,
            "left": null
          }
        },
        "e6ece6ad3129495681f35deb103a12a8": {
          "model_module": "@jupyter-widgets/controls",
          "model_name": "DescriptionStyleModel",
          "state": {
            "_view_name": "StyleView",
            "_model_name": "DescriptionStyleModel",
            "description_width": "",
            "_view_module": "@jupyter-widgets/base",
            "_model_module_version": "1.5.0",
            "_view_count": null,
            "_view_module_version": "1.2.0",
            "_model_module": "@jupyter-widgets/controls"
          }
        },
        "21754d1765ac4a9eb984cb68c4ae9b22": {
          "model_module": "@jupyter-widgets/base",
          "model_name": "LayoutModel",
          "state": {
            "_view_name": "LayoutView",
            "grid_template_rows": null,
            "right": null,
            "justify_content": null,
            "_view_module": "@jupyter-widgets/base",
            "overflow": null,
            "_model_module_version": "1.2.0",
            "_view_count": null,
            "flex_flow": null,
            "width": null,
            "min_width": null,
            "border": null,
            "align_items": null,
            "bottom": null,
            "_model_module": "@jupyter-widgets/base",
            "top": null,
            "grid_column": null,
            "overflow_y": null,
            "overflow_x": null,
            "grid_auto_flow": null,
            "grid_area": null,
            "grid_template_columns": null,
            "flex": null,
            "_model_name": "LayoutModel",
            "justify_items": null,
            "grid_row": null,
            "max_height": null,
            "align_content": null,
            "visibility": null,
            "align_self": null,
            "height": null,
            "min_height": null,
            "padding": null,
            "grid_auto_rows": null,
            "grid_gap": null,
            "max_width": null,
            "order": null,
            "_view_module_version": "1.2.0",
            "grid_template_areas": null,
            "object_position": null,
            "object_fit": null,
            "grid_auto_columns": null,
            "margin": null,
            "display": null,
            "left": null
          }
        },
        "ed11188ab4974130a4917a21c5d74f09": {
          "model_module": "@jupyter-widgets/controls",
          "model_name": "HBoxModel",
          "state": {
            "_view_name": "HBoxView",
            "_dom_classes": [],
            "_model_name": "HBoxModel",
            "_view_module": "@jupyter-widgets/controls",
            "_model_module_version": "1.5.0",
            "_view_count": null,
            "_view_module_version": "1.5.0",
            "box_style": "",
            "layout": "IPY_MODEL_09d3cea137c34684bc22d1299d5a87c5",
            "_model_module": "@jupyter-widgets/controls",
            "children": [
              "IPY_MODEL_e2b8694c4cb64765be523674d7f989cd",
              "IPY_MODEL_6f596fd7a7174e8eab962a0719c19689"
            ]
          }
        },
        "09d3cea137c34684bc22d1299d5a87c5": {
          "model_module": "@jupyter-widgets/base",
          "model_name": "LayoutModel",
          "state": {
            "_view_name": "LayoutView",
            "grid_template_rows": null,
            "right": null,
            "justify_content": null,
            "_view_module": "@jupyter-widgets/base",
            "overflow": null,
            "_model_module_version": "1.2.0",
            "_view_count": null,
            "flex_flow": "row wrap",
            "width": "100%",
            "min_width": null,
            "border": null,
            "align_items": null,
            "bottom": null,
            "_model_module": "@jupyter-widgets/base",
            "top": null,
            "grid_column": null,
            "overflow_y": null,
            "overflow_x": null,
            "grid_auto_flow": null,
            "grid_area": null,
            "grid_template_columns": null,
            "flex": null,
            "_model_name": "LayoutModel",
            "justify_items": null,
            "grid_row": null,
            "max_height": null,
            "align_content": null,
            "visibility": null,
            "align_self": null,
            "height": null,
            "min_height": null,
            "padding": null,
            "grid_auto_rows": null,
            "grid_gap": null,
            "max_width": null,
            "order": null,
            "_view_module_version": "1.2.0",
            "grid_template_areas": null,
            "object_position": null,
            "object_fit": null,
            "grid_auto_columns": null,
            "margin": null,
            "display": "inline-flex",
            "left": null
          }
        },
        "e2b8694c4cb64765be523674d7f989cd": {
          "model_module": "@jupyter-widgets/controls",
          "model_name": "FloatProgressModel",
          "state": {
            "_view_name": "ProgressView",
            "style": "IPY_MODEL_389c0db882db42eab06b5452d143edaa",
            "_dom_classes": [],
            "description": "Testing: 100%",
            "_model_name": "FloatProgressModel",
            "bar_style": "success",
            "max": 1,
            "_view_module": "@jupyter-widgets/controls",
            "_model_module_version": "1.5.0",
            "value": 1,
            "_view_count": null,
            "_view_module_version": "1.5.0",
            "orientation": "horizontal",
            "min": 0,
            "description_tooltip": null,
            "_model_module": "@jupyter-widgets/controls",
            "layout": "IPY_MODEL_3057a0a9b9b740e08764935c5647cbd8"
          }
        },
        "6f596fd7a7174e8eab962a0719c19689": {
          "model_module": "@jupyter-widgets/controls",
          "model_name": "HTMLModel",
          "state": {
            "_view_name": "HTMLView",
            "style": "IPY_MODEL_b2706bd8d66c4d53b26cdc5a95c3611e",
            "_dom_classes": [],
            "description": "",
            "_model_name": "HTMLModel",
            "placeholder": "​",
            "_view_module": "@jupyter-widgets/controls",
            "_model_module_version": "1.5.0",
            "value": " 59/59 [00:29&lt;00:00,  2.03it/s]",
            "_view_count": null,
            "_view_module_version": "1.5.0",
            "description_tooltip": null,
            "_model_module": "@jupyter-widgets/controls",
            "layout": "IPY_MODEL_7e1c1ef86ae64b0683d4df9a1bc3fdd1"
          }
        },
        "389c0db882db42eab06b5452d143edaa": {
          "model_module": "@jupyter-widgets/controls",
          "model_name": "ProgressStyleModel",
          "state": {
            "_view_name": "StyleView",
            "_model_name": "ProgressStyleModel",
            "description_width": "initial",
            "_view_module": "@jupyter-widgets/base",
            "_model_module_version": "1.5.0",
            "_view_count": null,
            "_view_module_version": "1.2.0",
            "bar_color": null,
            "_model_module": "@jupyter-widgets/controls"
          }
        },
        "3057a0a9b9b740e08764935c5647cbd8": {
          "model_module": "@jupyter-widgets/base",
          "model_name": "LayoutModel",
          "state": {
            "_view_name": "LayoutView",
            "grid_template_rows": null,
            "right": null,
            "justify_content": null,
            "_view_module": "@jupyter-widgets/base",
            "overflow": null,
            "_model_module_version": "1.2.0",
            "_view_count": null,
            "flex_flow": null,
            "width": null,
            "min_width": null,
            "border": null,
            "align_items": null,
            "bottom": null,
            "_model_module": "@jupyter-widgets/base",
            "top": null,
            "grid_column": null,
            "overflow_y": null,
            "overflow_x": null,
            "grid_auto_flow": null,
            "grid_area": null,
            "grid_template_columns": null,
            "flex": "2",
            "_model_name": "LayoutModel",
            "justify_items": null,
            "grid_row": null,
            "max_height": null,
            "align_content": null,
            "visibility": null,
            "align_self": null,
            "height": null,
            "min_height": null,
            "padding": null,
            "grid_auto_rows": null,
            "grid_gap": null,
            "max_width": null,
            "order": null,
            "_view_module_version": "1.2.0",
            "grid_template_areas": null,
            "object_position": null,
            "object_fit": null,
            "grid_auto_columns": null,
            "margin": null,
            "display": null,
            "left": null
          }
        },
        "b2706bd8d66c4d53b26cdc5a95c3611e": {
          "model_module": "@jupyter-widgets/controls",
          "model_name": "DescriptionStyleModel",
          "state": {
            "_view_name": "StyleView",
            "_model_name": "DescriptionStyleModel",
            "description_width": "",
            "_view_module": "@jupyter-widgets/base",
            "_model_module_version": "1.5.0",
            "_view_count": null,
            "_view_module_version": "1.2.0",
            "_model_module": "@jupyter-widgets/controls"
          }
        },
        "7e1c1ef86ae64b0683d4df9a1bc3fdd1": {
          "model_module": "@jupyter-widgets/base",
          "model_name": "LayoutModel",
          "state": {
            "_view_name": "LayoutView",
            "grid_template_rows": null,
            "right": null,
            "justify_content": null,
            "_view_module": "@jupyter-widgets/base",
            "overflow": null,
            "_model_module_version": "1.2.0",
            "_view_count": null,
            "flex_flow": null,
            "width": null,
            "min_width": null,
            "border": null,
            "align_items": null,
            "bottom": null,
            "_model_module": "@jupyter-widgets/base",
            "top": null,
            "grid_column": null,
            "overflow_y": null,
            "overflow_x": null,
            "grid_auto_flow": null,
            "grid_area": null,
            "grid_template_columns": null,
            "flex": null,
            "_model_name": "LayoutModel",
            "justify_items": null,
            "grid_row": null,
            "max_height": null,
            "align_content": null,
            "visibility": null,
            "align_self": null,
            "height": null,
            "min_height": null,
            "padding": null,
            "grid_auto_rows": null,
            "grid_gap": null,
            "max_width": null,
            "order": null,
            "_view_module_version": "1.2.0",
            "grid_template_areas": null,
            "object_position": null,
            "object_fit": null,
            "grid_auto_columns": null,
            "margin": null,
            "display": null,
            "left": null
          }
        },
        "9d0b17fca80d4865933d9552711eaee9": {
          "model_module": "@jupyter-widgets/controls",
          "model_name": "HBoxModel",
          "state": {
            "_view_name": "HBoxView",
            "_dom_classes": [],
            "_model_name": "HBoxModel",
            "_view_module": "@jupyter-widgets/controls",
            "_model_module_version": "1.5.0",
            "_view_count": null,
            "_view_module_version": "1.5.0",
            "box_style": "",
            "layout": "IPY_MODEL_52f9760dd7d441dfafa2325f5c1739ae",
            "_model_module": "@jupyter-widgets/controls",
            "children": [
              "IPY_MODEL_7d20c46c915b449a8da37760db2d8ca3",
              "IPY_MODEL_3655b56286ac43cd98a52024ba1aa736"
            ]
          }
        },
        "52f9760dd7d441dfafa2325f5c1739ae": {
          "model_module": "@jupyter-widgets/base",
          "model_name": "LayoutModel",
          "state": {
            "_view_name": "LayoutView",
            "grid_template_rows": null,
            "right": null,
            "justify_content": null,
            "_view_module": "@jupyter-widgets/base",
            "overflow": null,
            "_model_module_version": "1.2.0",
            "_view_count": null,
            "flex_flow": null,
            "width": null,
            "min_width": null,
            "border": null,
            "align_items": null,
            "bottom": null,
            "_model_module": "@jupyter-widgets/base",
            "top": null,
            "grid_column": null,
            "overflow_y": null,
            "overflow_x": null,
            "grid_auto_flow": null,
            "grid_area": null,
            "grid_template_columns": null,
            "flex": null,
            "_model_name": "LayoutModel",
            "justify_items": null,
            "grid_row": null,
            "max_height": null,
            "align_content": null,
            "visibility": null,
            "align_self": null,
            "height": null,
            "min_height": null,
            "padding": null,
            "grid_auto_rows": null,
            "grid_gap": null,
            "max_width": null,
            "order": null,
            "_view_module_version": "1.2.0",
            "grid_template_areas": null,
            "object_position": null,
            "object_fit": null,
            "grid_auto_columns": null,
            "margin": null,
            "display": null,
            "left": null
          }
        },
        "7d20c46c915b449a8da37760db2d8ca3": {
          "model_module": "@jupyter-widgets/controls",
          "model_name": "FloatProgressModel",
          "state": {
            "_view_name": "ProgressView",
            "style": "IPY_MODEL_ab668804f499485fb574daca48802d43",
            "_dom_classes": [],
            "description": "100%",
            "_model_name": "FloatProgressModel",
            "bar_style": "success",
            "max": 6974,
            "_view_module": "@jupyter-widgets/controls",
            "_model_module_version": "1.5.0",
            "value": 6974,
            "_view_count": null,
            "_view_module_version": "1.5.0",
            "orientation": "horizontal",
            "min": 0,
            "description_tooltip": null,
            "_model_module": "@jupyter-widgets/controls",
            "layout": "IPY_MODEL_43ad321c07744c8892d8b3786fdc0c3d"
          }
        },
        "3655b56286ac43cd98a52024ba1aa736": {
          "model_module": "@jupyter-widgets/controls",
          "model_name": "HTMLModel",
          "state": {
            "_view_name": "HTMLView",
            "style": "IPY_MODEL_0bdce991d2b94746936d551b8a252870",
            "_dom_classes": [],
            "description": "",
            "_model_name": "HTMLModel",
            "placeholder": "​",
            "_view_module": "@jupyter-widgets/controls",
            "_model_module_version": "1.5.0",
            "value": " 6974/6974 [02:27&lt;00:00, 47.34it/s]",
            "_view_count": null,
            "_view_module_version": "1.5.0",
            "description_tooltip": null,
            "_model_module": "@jupyter-widgets/controls",
            "layout": "IPY_MODEL_d201ba1d57b842cf825e5bdb52be7fc6"
          }
        },
        "ab668804f499485fb574daca48802d43": {
          "model_module": "@jupyter-widgets/controls",
          "model_name": "ProgressStyleModel",
          "state": {
            "_view_name": "StyleView",
            "_model_name": "ProgressStyleModel",
            "description_width": "initial",
            "_view_module": "@jupyter-widgets/base",
            "_model_module_version": "1.5.0",
            "_view_count": null,
            "_view_module_version": "1.2.0",
            "bar_color": null,
            "_model_module": "@jupyter-widgets/controls"
          }
        },
        "43ad321c07744c8892d8b3786fdc0c3d": {
          "model_module": "@jupyter-widgets/base",
          "model_name": "LayoutModel",
          "state": {
            "_view_name": "LayoutView",
            "grid_template_rows": null,
            "right": null,
            "justify_content": null,
            "_view_module": "@jupyter-widgets/base",
            "overflow": null,
            "_model_module_version": "1.2.0",
            "_view_count": null,
            "flex_flow": null,
            "width": null,
            "min_width": null,
            "border": null,
            "align_items": null,
            "bottom": null,
            "_model_module": "@jupyter-widgets/base",
            "top": null,
            "grid_column": null,
            "overflow_y": null,
            "overflow_x": null,
            "grid_auto_flow": null,
            "grid_area": null,
            "grid_template_columns": null,
            "flex": null,
            "_model_name": "LayoutModel",
            "justify_items": null,
            "grid_row": null,
            "max_height": null,
            "align_content": null,
            "visibility": null,
            "align_self": null,
            "height": null,
            "min_height": null,
            "padding": null,
            "grid_auto_rows": null,
            "grid_gap": null,
            "max_width": null,
            "order": null,
            "_view_module_version": "1.2.0",
            "grid_template_areas": null,
            "object_position": null,
            "object_fit": null,
            "grid_auto_columns": null,
            "margin": null,
            "display": null,
            "left": null
          }
        },
        "0bdce991d2b94746936d551b8a252870": {
          "model_module": "@jupyter-widgets/controls",
          "model_name": "DescriptionStyleModel",
          "state": {
            "_view_name": "StyleView",
            "_model_name": "DescriptionStyleModel",
            "description_width": "",
            "_view_module": "@jupyter-widgets/base",
            "_model_module_version": "1.5.0",
            "_view_count": null,
            "_view_module_version": "1.2.0",
            "_model_module": "@jupyter-widgets/controls"
          }
        },
        "d201ba1d57b842cf825e5bdb52be7fc6": {
          "model_module": "@jupyter-widgets/base",
          "model_name": "LayoutModel",
          "state": {
            "_view_name": "LayoutView",
            "grid_template_rows": null,
            "right": null,
            "justify_content": null,
            "_view_module": "@jupyter-widgets/base",
            "overflow": null,
            "_model_module_version": "1.2.0",
            "_view_count": null,
            "flex_flow": null,
            "width": null,
            "min_width": null,
            "border": null,
            "align_items": null,
            "bottom": null,
            "_model_module": "@jupyter-widgets/base",
            "top": null,
            "grid_column": null,
            "overflow_y": null,
            "overflow_x": null,
            "grid_auto_flow": null,
            "grid_area": null,
            "grid_template_columns": null,
            "flex": null,
            "_model_name": "LayoutModel",
            "justify_items": null,
            "grid_row": null,
            "max_height": null,
            "align_content": null,
            "visibility": null,
            "align_self": null,
            "height": null,
            "min_height": null,
            "padding": null,
            "grid_auto_rows": null,
            "grid_gap": null,
            "max_width": null,
            "order": null,
            "_view_module_version": "1.2.0",
            "grid_template_areas": null,
            "object_position": null,
            "object_fit": null,
            "grid_auto_columns": null,
            "margin": null,
            "display": null,
            "left": null
          }
        }
      }
    }
  },
  "cells": [
    {
      "cell_type": "markdown",
      "metadata": {
        "id": "BfP17bt3M6DR"
      },
      "source": [
        "## Pytorch LSTM Based Classification"
      ]
    },
    {
      "cell_type": "code",
      "metadata": {
        "id": "wjFsVEluec16"
      },
      "source": [
        "#!pip install --quiet torch==1.8.1"
      ],
      "execution_count": null,
      "outputs": []
    },
    {
      "cell_type": "code",
      "metadata": {
        "colab": {
          "base_uri": "https://localhost:8080/"
        },
        "id": "-ugQBDIatREg",
        "outputId": "d5d4ff63-3776-4711-f85b-485882c11b2a"
      },
      "source": [
        "from google.colab import drive\n",
        "drive.mount('/content/drive')"
      ],
      "execution_count": 1,
      "outputs": [
        {
          "output_type": "stream",
          "text": [
            "Mounted at /content/drive\n"
          ],
          "name": "stdout"
        }
      ]
    },
    {
      "cell_type": "code",
      "metadata": {
        "id": "ZvnoXamP03jR"
      },
      "source": [
        "#!pip install --quiet pytorch-lightning==1.2.6"
      ],
      "execution_count": null,
      "outputs": []
    },
    {
      "cell_type": "code",
      "metadata": {
        "id": "Sc0IczyZttNJ"
      },
      "source": [
        "!pip install torchtext==0.8.0 torch==1.7.1 pytorch-lightning==1.2.2"
      ],
      "execution_count": null,
      "outputs": []
    },
    {
      "cell_type": "code",
      "metadata": {
        "id": "5Va_vkwd1E28"
      },
      "source": [
        "import pandas as pd\n",
        "import numpy as np\n",
        "from tqdm.auto import tqdm\n",
        "import torch \n",
        "import torch.autograd as autograd\n",
        "import torch.nn as nn\n",
        "import torch.nn.functional as F\n",
        "import torch.optim as optim\n",
        "from torch.utils.data import Dataset, DataLoader\n",
        "\n",
        "\n",
        "import pytorch_lightning as pl\n",
        "import seaborn as sns\n",
        "from pylab import rcParams\n",
        "import matplotlib.pyplot as plt\n",
        "from matplotlib import rc\n",
        "from matplotlib.ticker import MaxNLocator\n"
      ],
      "execution_count": 1,
      "outputs": []
    },
    {
      "cell_type": "code",
      "metadata": {
        "id": "F3miu7B52LqB"
      },
      "source": [
        "from sklearn.model_selection import train_test_split\n",
        "from sklearn.preprocessing import LabelEncoder\n",
        "from multiprocessing import cpu_count\n",
        "from pytorch_lightning.callbacks import ModelCheckpoint, EarlyStopping\n",
        "from pytorch_lightning.loggers import TensorBoardLogger\n",
        "from pytorch_lightning.metrics.functional import accuracy\n",
        "from sklearn.metrics import classification_report, confusion_matrix\n"
      ],
      "execution_count": 2,
      "outputs": []
    },
    {
      "cell_type": "code",
      "metadata": {
        "id": "1omwgjP49BLM"
      },
      "source": [
        "%matplotlib inline\n",
        "%config InlineBackend.figure_format='retina'\n",
        "\n",
        "sns.set(style='whitegrid', palette='muted', font_scale=1.2)\n",
        "HAPPY_COLORS_PALETTE = [\"#01BEFE\",\"#FFDD00\",\"#FF7D00\",\"#FF006D\",\"#ADFF02\",\"#8F00FF\"]\n",
        "\n",
        "sns.set_palette(sns.color_palette(HAPPY_COLORS_PALETTE))\n",
        "\n",
        "rcParams['figure.figsize'] = 16,10"
      ],
      "execution_count": 3,
      "outputs": []
    },
    {
      "cell_type": "code",
      "metadata": {
        "colab": {
          "base_uri": "https://localhost:8080/"
        },
        "id": "hgECr513Bod0",
        "outputId": "d6c90943-ce9c-4634-bb3f-f8a0b4b8e828"
      },
      "source": [
        "pl.seed_everything(42)"
      ],
      "execution_count": 4,
      "outputs": [
        {
          "output_type": "stream",
          "text": [
            "Global seed set to 42\n"
          ],
          "name": "stderr"
        },
        {
          "output_type": "execute_result",
          "data": {
            "text/plain": [
              "42"
            ]
          },
          "metadata": {
            "tags": []
          },
          "execution_count": 4
        }
      ]
    },
    {
      "cell_type": "code",
      "metadata": {
        "id": "1lTPtMM6BtEn"
      },
      "source": [
        "X_train = pd.read_csv('/content/drive/MyDrive/PAM_AP2_Dataset/x_trn.csv')\n",
        "y_train = pd.read_csv('/content/drive/MyDrive/PAM_AP2_Dataset/y_trn.csv')"
      ],
      "execution_count": 72,
      "outputs": []
    },
    {
      "cell_type": "code",
      "metadata": {
        "colab": {
          "base_uri": "https://localhost:8080/"
        },
        "id": "hBNgm53E6Shn",
        "outputId": "d7c23f18-e4ce-48f8-e807-7f197dfa1a23"
      },
      "source": [
        "len(X_train)"
      ],
      "execution_count": 35,
      "outputs": [
        {
          "output_type": "execute_result",
          "data": {
            "text/plain": [
              "77484"
            ]
          },
          "metadata": {
            "tags": []
          },
          "execution_count": 35
        }
      ]
    },
    {
      "cell_type": "code",
      "metadata": {
        "colab": {
          "base_uri": "https://localhost:8080/"
        },
        "id": "s_cZAjG76Zc4",
        "outputId": "17a59308-c81e-4da3-c271-e53cb08927ea"
      },
      "source": [
        "len(y_train)"
      ],
      "execution_count": 36,
      "outputs": [
        {
          "output_type": "execute_result",
          "data": {
            "text/plain": [
              "107484"
            ]
          },
          "metadata": {
            "tags": []
          },
          "execution_count": 36
        }
      ]
    },
    {
      "cell_type": "code",
      "metadata": {
        "id": "67nnH55B68sG"
      },
      "source": [
        "y_train = y_train.sample(n=7044,replace=True)"
      ],
      "execution_count": 73,
      "outputs": []
    },
    {
      "cell_type": "code",
      "metadata": {
        "colab": {
          "base_uri": "https://localhost:8080/",
          "height": 204
        },
        "id": "3q0xlEY17Fw3",
        "outputId": "6188723e-26f2-4b15-f6fa-b28722468187"
      },
      "source": [
        "y_train.head()"
      ],
      "execution_count": 39,
      "outputs": [
        {
          "output_type": "execute_result",
          "data": {
            "text/html": [
              "<div>\n",
              "<style scoped>\n",
              "    .dataframe tbody tr th:only-of-type {\n",
              "        vertical-align: middle;\n",
              "    }\n",
              "\n",
              "    .dataframe tbody tr th {\n",
              "        vertical-align: top;\n",
              "    }\n",
              "\n",
              "    .dataframe thead th {\n",
              "        text-align: right;\n",
              "    }\n",
              "</style>\n",
              "<table border=\"1\" class=\"dataframe\">\n",
              "  <thead>\n",
              "    <tr style=\"text-align: right;\">\n",
              "      <th></th>\n",
              "      <th>Unnamed: 0</th>\n",
              "      <th>time_stamp</th>\n",
              "      <th>activity_id</th>\n",
              "      <th>id</th>\n",
              "    </tr>\n",
              "  </thead>\n",
              "  <tbody>\n",
              "    <tr>\n",
              "      <th>15795</th>\n",
              "      <td>184757</td>\n",
              "      <td>1855.95</td>\n",
              "      <td>12</td>\n",
              "      <td>101</td>\n",
              "    </tr>\n",
              "    <tr>\n",
              "      <th>860</th>\n",
              "      <td>155141</td>\n",
              "      <td>1559.79</td>\n",
              "      <td>12</td>\n",
              "      <td>101</td>\n",
              "    </tr>\n",
              "    <tr>\n",
              "      <th>103694</th>\n",
              "      <td>358010</td>\n",
              "      <td>3588.48</td>\n",
              "      <td>24</td>\n",
              "      <td>101</td>\n",
              "    </tr>\n",
              "    <tr>\n",
              "      <th>76820</th>\n",
              "      <td>316255</td>\n",
              "      <td>3170.93</td>\n",
              "      <td>5</td>\n",
              "      <td>101</td>\n",
              "    </tr>\n",
              "    <tr>\n",
              "      <th>54886</th>\n",
              "      <td>255019</td>\n",
              "      <td>2558.57</td>\n",
              "      <td>7</td>\n",
              "      <td>101</td>\n",
              "    </tr>\n",
              "  </tbody>\n",
              "</table>\n",
              "</div>"
            ],
            "text/plain": [
              "        Unnamed: 0  time_stamp  activity_id   id\n",
              "15795       184757     1855.95           12  101\n",
              "860         155141     1559.79           12  101\n",
              "103694      358010     3588.48           24  101\n",
              "76820       316255     3170.93            5  101\n",
              "54886       255019     2558.57            7  101"
            ]
          },
          "metadata": {
            "tags": []
          },
          "execution_count": 39
        }
      ]
    },
    {
      "cell_type": "code",
      "metadata": {
        "id": "4Vlo6ioaCR9N"
      },
      "source": [
        "X_train.head()"
      ],
      "execution_count": null,
      "outputs": []
    },
    {
      "cell_type": "code",
      "metadata": {
        "id": "UnduTKT8Cduh"
      },
      "source": [
        "y_train.head()"
      ],
      "execution_count": null,
      "outputs": []
    },
    {
      "cell_type": "code",
      "metadata": {
        "colab": {
          "base_uri": "https://localhost:8080/",
          "height": 204
        },
        "id": "wCd4xVwDvfyB",
        "outputId": "2da9532c-ef3d-4fc7-f51d-54b824698bd8"
      },
      "source": [
        "y_train.rename(columns = {'activity_id':'surface'}, inplace = True)\n",
        "y_train.head()"
      ],
      "execution_count": 74,
      "outputs": [
        {
          "output_type": "execute_result",
          "data": {
            "text/html": [
              "<div>\n",
              "<style scoped>\n",
              "    .dataframe tbody tr th:only-of-type {\n",
              "        vertical-align: middle;\n",
              "    }\n",
              "\n",
              "    .dataframe tbody tr th {\n",
              "        vertical-align: top;\n",
              "    }\n",
              "\n",
              "    .dataframe thead th {\n",
              "        text-align: right;\n",
              "    }\n",
              "</style>\n",
              "<table border=\"1\" class=\"dataframe\">\n",
              "  <thead>\n",
              "    <tr style=\"text-align: right;\">\n",
              "      <th></th>\n",
              "      <th>Unnamed: 0</th>\n",
              "      <th>time_stamp</th>\n",
              "      <th>surface</th>\n",
              "      <th>id</th>\n",
              "    </tr>\n",
              "  </thead>\n",
              "  <tbody>\n",
              "    <tr>\n",
              "      <th>30625</th>\n",
              "      <td>199587</td>\n",
              "      <td>2004.25</td>\n",
              "      <td>13</td>\n",
              "      <td>101</td>\n",
              "    </tr>\n",
              "    <tr>\n",
              "      <th>47035</th>\n",
              "      <td>240005</td>\n",
              "      <td>2408.43</td>\n",
              "      <td>4</td>\n",
              "      <td>101</td>\n",
              "    </tr>\n",
              "    <tr>\n",
              "      <th>1593</th>\n",
              "      <td>155874</td>\n",
              "      <td>1567.12</td>\n",
              "      <td>12</td>\n",
              "      <td>101</td>\n",
              "    </tr>\n",
              "    <tr>\n",
              "      <th>55873</th>\n",
              "      <td>256006</td>\n",
              "      <td>2568.44</td>\n",
              "      <td>7</td>\n",
              "      <td>101</td>\n",
              "    </tr>\n",
              "    <tr>\n",
              "      <th>55153</th>\n",
              "      <td>255286</td>\n",
              "      <td>2561.24</td>\n",
              "      <td>7</td>\n",
              "      <td>101</td>\n",
              "    </tr>\n",
              "  </tbody>\n",
              "</table>\n",
              "</div>"
            ],
            "text/plain": [
              "       Unnamed: 0  time_stamp  surface   id\n",
              "30625      199587     2004.25       13  101\n",
              "47035      240005     2408.43        4  101\n",
              "1593       155874     1567.12       12  101\n",
              "55873      256006     2568.44        7  101\n",
              "55153      255286     2561.24        7  101"
            ]
          },
          "metadata": {
            "tags": []
          },
          "execution_count": 74
        }
      ]
    },
    {
      "cell_type": "code",
      "metadata": {
        "colab": {
          "base_uri": "https://localhost:8080/",
          "height": 605
        },
        "id": "vuX_1Me5CUia",
        "outputId": "2c422937-f7da-4a77-bf6b-cccb73ab314a"
      },
      "source": [
        "y_train.surface.value_counts().plot(kind=\"bar\")\n",
        "plt.xticks(rotation=45)\n",
        "plt.show();"
      ],
      "execution_count": 41,
      "outputs": [
        {
          "output_type": "display_data",
          "data": {
            "image/png": "[encoded data removed]",
            "text/plain": [
              "<Figure size 1152x720 with 1 Axes>"
            ]
          },
          "metadata": {
            "tags": [],
            "image/png": {
              "width": 950,
              "height": 588
            }
          }
        }
      ]
    },
    {
      "cell_type": "markdown",
      "metadata": {
        "id": "DpW0lrirDRqA"
      },
      "source": [
        "## Pre-processing"
      ]
    },
    {
      "cell_type": "code",
      "metadata": {
        "id": "skdaNIYpDKWV"
      },
      "source": [
        "label_encoder = LabelEncoder()\n",
        "encoded_labels = label_encoder.fit_transform(y_train.surface)"
      ],
      "execution_count": 75,
      "outputs": []
    },
    {
      "cell_type": "code",
      "metadata": {
        "colab": {
          "base_uri": "https://localhost:8080/"
        },
        "id": "GdTDBkSQEE_-",
        "outputId": "f1dc47f8-e291-4c17-d858-dd6311067de2"
      },
      "source": [
        "encoded_labels[:10]"
      ],
      "execution_count": 76,
      "outputs": [
        {
          "output_type": "execute_result",
          "data": {
            "text/plain": [
              "array([4, 0, 3, 2, 2, 1, 4, 0, 0, 3])"
            ]
          },
          "metadata": {
            "tags": []
          },
          "execution_count": 76
        }
      ]
    },
    {
      "cell_type": "code",
      "metadata": {
        "colab": {
          "base_uri": "https://localhost:8080/"
        },
        "id": "KRk7fL8REwOv",
        "outputId": "1d139971-7b01-4cbd-962d-e49524264ce9"
      },
      "source": [
        "label_encoder.classes_"
      ],
      "execution_count": 77,
      "outputs": [
        {
          "output_type": "execute_result",
          "data": {
            "text/plain": [
              "array([ 4,  5,  7, 12, 13, 24])"
            ]
          },
          "metadata": {
            "tags": []
          },
          "execution_count": 77
        }
      ]
    },
    {
      "cell_type": "code",
      "metadata": {
        "id": "kFeLW6rLE2Cx"
      },
      "source": [
        "y_train[\"label\"] = encoded_labels"
      ],
      "execution_count": 78,
      "outputs": []
    },
    {
      "cell_type": "code",
      "metadata": {
        "colab": {
          "base_uri": "https://localhost:8080/",
          "height": 204
        },
        "id": "PjGjGP6tyyJ5",
        "outputId": "8751c014-19c5-4bab-f461-efc1eb760259"
      },
      "source": [
        "y_train['series_id'] = np.arange(len(y_train))\n",
        "y_train.head()\n"
      ],
      "execution_count": 79,
      "outputs": [
        {
          "output_type": "execute_result",
          "data": {
            "text/html": [
              "<div>\n",
              "<style scoped>\n",
              "    .dataframe tbody tr th:only-of-type {\n",
              "        vertical-align: middle;\n",
              "    }\n",
              "\n",
              "    .dataframe tbody tr th {\n",
              "        vertical-align: top;\n",
              "    }\n",
              "\n",
              "    .dataframe thead th {\n",
              "        text-align: right;\n",
              "    }\n",
              "</style>\n",
              "<table border=\"1\" class=\"dataframe\">\n",
              "  <thead>\n",
              "    <tr style=\"text-align: right;\">\n",
              "      <th></th>\n",
              "      <th>Unnamed: 0</th>\n",
              "      <th>time_stamp</th>\n",
              "      <th>surface</th>\n",
              "      <th>id</th>\n",
              "      <th>label</th>\n",
              "      <th>series_id</th>\n",
              "    </tr>\n",
              "  </thead>\n",
              "  <tbody>\n",
              "    <tr>\n",
              "      <th>30625</th>\n",
              "      <td>199587</td>\n",
              "      <td>2004.25</td>\n",
              "      <td>13</td>\n",
              "      <td>101</td>\n",
              "      <td>4</td>\n",
              "      <td>0</td>\n",
              "    </tr>\n",
              "    <tr>\n",
              "      <th>47035</th>\n",
              "      <td>240005</td>\n",
              "      <td>2408.43</td>\n",
              "      <td>4</td>\n",
              "      <td>101</td>\n",
              "      <td>0</td>\n",
              "      <td>1</td>\n",
              "    </tr>\n",
              "    <tr>\n",
              "      <th>1593</th>\n",
              "      <td>155874</td>\n",
              "      <td>1567.12</td>\n",
              "      <td>12</td>\n",
              "      <td>101</td>\n",
              "      <td>3</td>\n",
              "      <td>2</td>\n",
              "    </tr>\n",
              "    <tr>\n",
              "      <th>55873</th>\n",
              "      <td>256006</td>\n",
              "      <td>2568.44</td>\n",
              "      <td>7</td>\n",
              "      <td>101</td>\n",
              "      <td>2</td>\n",
              "      <td>3</td>\n",
              "    </tr>\n",
              "    <tr>\n",
              "      <th>55153</th>\n",
              "      <td>255286</td>\n",
              "      <td>2561.24</td>\n",
              "      <td>7</td>\n",
              "      <td>101</td>\n",
              "      <td>2</td>\n",
              "      <td>4</td>\n",
              "    </tr>\n",
              "  </tbody>\n",
              "</table>\n",
              "</div>"
            ],
            "text/plain": [
              "       Unnamed: 0  time_stamp  surface   id  label  series_id\n",
              "30625      199587     2004.25       13  101      4          0\n",
              "47035      240005     2408.43        4  101      0          1\n",
              "1593       155874     1567.12       12  101      3          2\n",
              "55873      256006     2568.44        7  101      2          3\n",
              "55153      255286     2561.24        7  101      2          4"
            ]
          },
          "metadata": {
            "tags": []
          },
          "execution_count": 79
        }
      ]
    },
    {
      "cell_type": "code",
      "metadata": {
        "id": "lj6ZXpzOE_3T"
      },
      "source": [
        "#y_train.head()"
      ],
      "execution_count": null,
      "outputs": []
    },
    {
      "cell_type": "code",
      "metadata": {
        "colab": {
          "base_uri": "https://localhost:8080/"
        },
        "id": "829D_iU-56OF",
        "outputId": "6b10eaac-2245-4c67-988f-fc44833d377d"
      },
      "source": [
        "len(X_train)"
      ],
      "execution_count": 80,
      "outputs": [
        {
          "output_type": "execute_result",
          "data": {
            "text/plain": [
              "77484"
            ]
          },
          "metadata": {
            "tags": []
          },
          "execution_count": 80
        }
      ]
    },
    {
      "cell_type": "code",
      "metadata": {
        "colab": {
          "base_uri": "https://localhost:8080/"
        },
        "id": "e9asKGOLyA8G",
        "outputId": "91c2f426-3e7c-4e30-b936-bbf8a659c1e7"
      },
      "source": [
        "len(y_train)"
      ],
      "execution_count": 81,
      "outputs": [
        {
          "output_type": "execute_result",
          "data": {
            "text/plain": [
              "7044"
            ]
          },
          "metadata": {
            "tags": []
          },
          "execution_count": 81
        }
      ]
    },
    {
      "cell_type": "code",
      "metadata": {
        "colab": {
          "base_uri": "https://localhost:8080/"
        },
        "id": "vJehmd2Y_mh8",
        "outputId": "f54ab943-9735-4c1d-9af0-2187b6215508"
      },
      "source": [
        "ntimes = 11 # number of times you repeat each item\n",
        "yourlist = [*range(0, 7044, 1)]\n",
        "print(len(yourlist))\n",
        "X_train['series_id'] = [i for i in yourlist for _ in range(ntimes)]"
      ],
      "execution_count": 87,
      "outputs": [
        {
          "output_type": "stream",
          "text": [
            "7044\n"
          ],
          "name": "stdout"
        }
      ]
    },
    {
      "cell_type": "code",
      "metadata": {
        "colab": {
          "base_uri": "https://localhost:8080/",
          "height": 241
        },
        "id": "jjeaSKPa9YUY",
        "outputId": "81d18b51-31e2-4756-feca-f4de90aeb1e7"
      },
      "source": [
        "X_train.head()"
      ],
      "execution_count": 88,
      "outputs": [
        {
          "output_type": "execute_result",
          "data": {
            "text/html": [
              "<div>\n",
              "<style scoped>\n",
              "    .dataframe tbody tr th:only-of-type {\n",
              "        vertical-align: middle;\n",
              "    }\n",
              "\n",
              "    .dataframe tbody tr th {\n",
              "        vertical-align: top;\n",
              "    }\n",
              "\n",
              "    .dataframe thead th {\n",
              "        text-align: right;\n",
              "    }\n",
              "</style>\n",
              "<table border=\"1\" class=\"dataframe\">\n",
              "  <thead>\n",
              "    <tr style=\"text-align: right;\">\n",
              "      <th></th>\n",
              "      <th>Unnamed: 0</th>\n",
              "      <th>time_stamp</th>\n",
              "      <th>ankle_3D_acceleration_16_x</th>\n",
              "      <th>ankle_3D_acceleration_16_y</th>\n",
              "      <th>ankle_3D_acceleration_16_z</th>\n",
              "      <th>ankle_3D_acceleration_6_x</th>\n",
              "      <th>ankle_3D_acceleration_6_y</th>\n",
              "      <th>ankle_3D_acceleration_6_z</th>\n",
              "      <th>ankle_3D_gyroscope_x</th>\n",
              "      <th>ankle_3D_gyroscope_y</th>\n",
              "      <th>ankle_3D_gyroscope_z</th>\n",
              "      <th>series_id</th>\n",
              "    </tr>\n",
              "  </thead>\n",
              "  <tbody>\n",
              "    <tr>\n",
              "      <th>0</th>\n",
              "      <td>154281</td>\n",
              "      <td>1551.19</td>\n",
              "      <td>9.75372</td>\n",
              "      <td>-1.04280</td>\n",
              "      <td>-0.835833</td>\n",
              "      <td>9.80851</td>\n",
              "      <td>-1.01234</td>\n",
              "      <td>-0.600316</td>\n",
              "      <td>-0.010195</td>\n",
              "      <td>-0.010306</td>\n",
              "      <td>-0.009147</td>\n",
              "      <td>0</td>\n",
              "    </tr>\n",
              "    <tr>\n",
              "      <th>1</th>\n",
              "      <td>154282</td>\n",
              "      <td>1551.20</td>\n",
              "      <td>9.78375</td>\n",
              "      <td>-1.19298</td>\n",
              "      <td>-1.066130</td>\n",
              "      <td>9.73352</td>\n",
              "      <td>-1.02744</td>\n",
              "      <td>-0.569598</td>\n",
              "      <td>0.000103</td>\n",
              "      <td>-0.008209</td>\n",
              "      <td>-0.006737</td>\n",
              "      <td>0</td>\n",
              "    </tr>\n",
              "    <tr>\n",
              "      <th>2</th>\n",
              "      <td>154283</td>\n",
              "      <td>1551.21</td>\n",
              "      <td>9.86120</td>\n",
              "      <td>-1.11816</td>\n",
              "      <td>-0.988621</td>\n",
              "      <td>9.77851</td>\n",
              "      <td>-1.07282</td>\n",
              "      <td>-0.584827</td>\n",
              "      <td>-0.003771</td>\n",
              "      <td>-0.024143</td>\n",
              "      <td>0.008858</td>\n",
              "      <td>0</td>\n",
              "    </tr>\n",
              "    <tr>\n",
              "      <th>3</th>\n",
              "      <td>154284</td>\n",
              "      <td>1551.22</td>\n",
              "      <td>9.71020</td>\n",
              "      <td>-1.15486</td>\n",
              "      <td>-1.028530</td>\n",
              "      <td>9.77858</td>\n",
              "      <td>-1.04256</td>\n",
              "      <td>-0.569789</td>\n",
              "      <td>-0.009096</td>\n",
              "      <td>0.049125</td>\n",
              "      <td>0.004017</td>\n",
              "      <td>0</td>\n",
              "    </tr>\n",
              "    <tr>\n",
              "      <th>4</th>\n",
              "      <td>154285</td>\n",
              "      <td>1551.23</td>\n",
              "      <td>9.78246</td>\n",
              "      <td>-1.23063</td>\n",
              "      <td>-1.104500</td>\n",
              "      <td>9.77875</td>\n",
              "      <td>-1.10300</td>\n",
              "      <td>-0.524190</td>\n",
              "      <td>-0.041132</td>\n",
              "      <td>0.005700</td>\n",
              "      <td>0.014554</td>\n",
              "      <td>0</td>\n",
              "    </tr>\n",
              "  </tbody>\n",
              "</table>\n",
              "</div>"
            ],
            "text/plain": [
              "   Unnamed: 0  time_stamp  ...  ankle_3D_gyroscope_z  series_id\n",
              "0      154281     1551.19  ...             -0.009147          0\n",
              "1      154282     1551.20  ...             -0.006737          0\n",
              "2      154283     1551.21  ...              0.008858          0\n",
              "3      154284     1551.22  ...              0.004017          0\n",
              "4      154285     1551.23  ...              0.014554          0\n",
              "\n",
              "[5 rows x 12 columns]"
            ]
          },
          "metadata": {
            "tags": []
          },
          "execution_count": 88
        }
      ]
    },
    {
      "cell_type": "code",
      "metadata": {
        "id": "SnsStP0b9hnl"
      },
      "source": [
        "X_train.series_id.value_counts().plot(kind=\"bar\")\n",
        "plt.xticks(rotation=45)\n",
        "plt.show();"
      ],
      "execution_count": null,
      "outputs": []
    },
    {
      "cell_type": "code",
      "metadata": {
        "colab": {
          "base_uri": "https://localhost:8080/"
        },
        "id": "3S3RcNgKFSfO",
        "outputId": "304f5fc1-f8bc-44ed-ad75-977162e1accf"
      },
      "source": [
        "FEATURE_COLUMNS = X_train.columns.tolist()[2:11]\n",
        "FEATURE_COLUMNS"
      ],
      "execution_count": 90,
      "outputs": [
        {
          "output_type": "execute_result",
          "data": {
            "text/plain": [
              "['ankle_3D_acceleration_16_x',\n",
              " 'ankle_3D_acceleration_16_y',\n",
              " 'ankle_3D_acceleration_16_z',\n",
              " 'ankle_3D_acceleration_6_x',\n",
              " 'ankle_3D_acceleration_6_y',\n",
              " 'ankle_3D_acceleration_6_z',\n",
              " 'ankle_3D_gyroscope_x',\n",
              " 'ankle_3D_gyroscope_y',\n",
              " 'ankle_3D_gyroscope_z']"
            ]
          },
          "metadata": {
            "tags": []
          },
          "execution_count": 90
        }
      ]
    },
    {
      "cell_type": "code",
      "metadata": {
        "colab": {
          "base_uri": "https://localhost:8080/"
        },
        "id": "kcmbAizvFf7H",
        "outputId": "82f8bc1a-4082-431d-a3a2-ea223a3995ff"
      },
      "source": [
        "X_train.series_id.value_counts()"
      ],
      "execution_count": 91,
      "outputs": [
        {
          "output_type": "execute_result",
          "data": {
            "text/plain": [
              "2047    11\n",
              "597     11\n",
              "6550    11\n",
              "4503    11\n",
              "2516    11\n",
              "        ..\n",
              "1322    11\n",
              "3371    11\n",
              "5480    11\n",
              "1386    11\n",
              "0       11\n",
              "Name: series_id, Length: 7044, dtype: int64"
            ]
          },
          "metadata": {
            "tags": []
          },
          "execution_count": 91
        }
      ]
    },
    {
      "cell_type": "code",
      "metadata": {
        "colab": {
          "base_uri": "https://localhost:8080/"
        },
        "id": "yJWmvL1AFtNu",
        "outputId": "05fa8a08-7252-4c44-eea9-1412534bb371"
      },
      "source": [
        "(X_train.series_id.value_counts() == 11).sum()"
      ],
      "execution_count": 92,
      "outputs": [
        {
          "output_type": "execute_result",
          "data": {
            "text/plain": [
              "7044"
            ]
          },
          "metadata": {
            "tags": []
          },
          "execution_count": 92
        }
      ]
    },
    {
      "cell_type": "code",
      "metadata": {
        "colab": {
          "base_uri": "https://localhost:8080/"
        },
        "id": "ASXdlczHGFIu",
        "outputId": "21cf8be7-de09-43c2-c352-ac9d5a069ea1"
      },
      "source": [
        "(X_train.series_id.value_counts() == 11).sum() == len(y_train)"
      ],
      "execution_count": 93,
      "outputs": [
        {
          "output_type": "execute_result",
          "data": {
            "text/plain": [
              "True"
            ]
          },
          "metadata": {
            "tags": []
          },
          "execution_count": 93
        }
      ]
    },
    {
      "cell_type": "code",
      "metadata": {
        "id": "eN0DMfy-06Pe"
      },
      "source": [
        "sequences = []\n",
        "\n",
        "for series_id, group in X_train.groupby('series_id'):\n",
        "  sequence_features = group[FEATURE_COLUMNS]\n",
        "  label = y_train[y_train.series_id == series_id].iloc[0].label\n",
        "\n",
        "  sequences.append((sequence_features, label))"
      ],
      "execution_count": 94,
      "outputs": []
    },
    {
      "cell_type": "code",
      "metadata": {
        "colab": {
          "base_uri": "https://localhost:8080/"
        },
        "id": "NSES2iprIaNI",
        "outputId": "c8be2ec6-2bd1-4681-ac1c-678807021831"
      },
      "source": [
        "sequences[0]"
      ],
      "execution_count": 95,
      "outputs": [
        {
          "output_type": "execute_result",
          "data": {
            "text/plain": [
              "(    ankle_3D_acceleration_16_x  ...  ankle_3D_gyroscope_z\n",
              " 0                      9.75372  ...             -0.009147\n",
              " 1                      9.78375  ...             -0.006737\n",
              " 2                      9.86120  ...              0.008858\n",
              " 3                      9.71020  ...              0.004017\n",
              " 4                      9.78246  ...              0.014554\n",
              " 5                      9.82538  ...             -0.030301\n",
              " 6                      9.86340  ...             -0.020229\n",
              " 7                      9.67918  ...              0.002065\n",
              " 8                      9.74892  ...              0.002128\n",
              " 9                      9.78945  ...             -0.006665\n",
              " 10                     9.78435  ...             -0.009630\n",
              " \n",
              " [11 rows x 9 columns], 4.0)"
            ]
          },
          "metadata": {
            "tags": []
          },
          "execution_count": 95
        }
      ]
    },
    {
      "cell_type": "code",
      "metadata": {
        "id": "TzkMXSKaInzv"
      },
      "source": [
        "train_sequences, test_sequences = train_test_split(sequences, test_size=0.99)"
      ],
      "execution_count": 96,
      "outputs": []
    },
    {
      "cell_type": "code",
      "metadata": {
        "colab": {
          "base_uri": "https://localhost:8080/"
        },
        "id": "lC-mU3wBJLZO",
        "outputId": "8c2b8428-b848-41b0-c917-0239dd68d684"
      },
      "source": [
        "len(train_sequences), len(test_sequences)"
      ],
      "execution_count": 97,
      "outputs": [
        {
          "output_type": "execute_result",
          "data": {
            "text/plain": [
              "(70, 6974)"
            ]
          },
          "metadata": {
            "tags": []
          },
          "execution_count": 97
        }
      ]
    },
    {
      "cell_type": "markdown",
      "metadata": {
        "id": "A-yF4y1WJjIG"
      },
      "source": [
        "## Dataset"
      ]
    },
    {
      "cell_type": "code",
      "metadata": {
        "id": "aPD1q3LcJTNM"
      },
      "source": [
        "class SurfaceDataset(Dataset):\n",
        "\n",
        "  def __init__(self, sequences):\n",
        "    self.sequences = sequences\n",
        "  \n",
        "  def __len__(self):\n",
        "    return len(self.sequences)\n",
        "\n",
        "  def __getitem__(self, idx):\n",
        "    sequence, label = self.sequences[idx]\n",
        "    return dict(\n",
        "        sequence=torch.Tensor(sequence.to_numpy()),\n",
        "        label=torch.tensor(label).long()\n",
        "    )"
      ],
      "execution_count": 98,
      "outputs": []
    },
    {
      "cell_type": "code",
      "metadata": {
        "id": "y7-6fByXKlzK"
      },
      "source": [
        "class SurfaceDataModule(pl.LightningDataModule):\n",
        "\n",
        "  def __init__(self, train_sequences, test_sequences, batch_size):\n",
        "\n",
        "    super().__init__()\n",
        "    self.train_sequences=train_sequences\n",
        "    self.test_sequences=test_sequences\n",
        "    self.batch_size=batch_size\n",
        "\n",
        "  def setup(self, stage = None):\n",
        "    self.train_dataset = SurfaceDataset(self.train_sequences)\n",
        "    self.test_dataset = SurfaceDataset(self.test_sequences)\n",
        "\n",
        "  def train_dataloader(self):\n",
        "    return DataLoader(\n",
        "        self.train_dataset,\n",
        "        batch_size=self.batch_size,\n",
        "        shuffle=True,\n",
        "        num_workers=cpu_count()\n",
        "    )\n",
        "\n",
        "  def val_dataloader(self):\n",
        "    return DataLoader(\n",
        "        self.test_dataset,\n",
        "        batch_size=self.batch_size,\n",
        "        shuffle=False,\n",
        "        num_workers=cpu_count()\n",
        "    )\n",
        "\n",
        "  def test_dataloader(self):\n",
        "    return DataLoader(\n",
        "        self.test_dataset,\n",
        "        batch_size=self.batch_size,\n",
        "        shuffle=False,\n",
        "        num_workers=cpu_count()\n",
        "    )\n",
        "\n",
        "\n"
      ],
      "execution_count": 99,
      "outputs": []
    },
    {
      "cell_type": "code",
      "metadata": {
        "id": "uJH-Y_6DMmXL"
      },
      "source": [
        "N_EPOCHS = 2\n",
        "BATCH_SIZE = 64\n",
        "\n",
        "data_module = SurfaceDataModule(train_sequences, test_sequences, BATCH_SIZE)"
      ],
      "execution_count": 100,
      "outputs": []
    },
    {
      "cell_type": "markdown",
      "metadata": {
        "id": "hdH-ZwMAMpkq"
      },
      "source": [
        "## Pytorch LSTM"
      ]
    },
    {
      "cell_type": "code",
      "metadata": {
        "id": "Hbn1NcS6M6G2"
      },
      "source": [
        "class SequenceModel(nn.Module):\n",
        "\n",
        "  def __init__(self, n_features, n_classes, n_hidden=256, n_layers=3):\n",
        "    super().__init__()\n",
        "\n",
        "    #self.n_hidden = n_hidden\n",
        "\n",
        "    self.lstm = nn.LSTM(\n",
        "        input_size = n_features,\n",
        "        hidden_size = n_hidden,\n",
        "        num_layers = n_layers,\n",
        "        batch_first=True,\n",
        "        dropout=0.75\n",
        "    )\n",
        "\n",
        "    self.classifier = nn.Linear(n_hidden, n_classes)\n",
        "\n",
        "  def forward(self, x):\n",
        "\n",
        "    self.lstm.flatten_parameters()\n",
        "    _, (hidden, _) = self.lstm(x)\n",
        "\n",
        "    out = hidden[-1]\n",
        "    return self.classifier(out)"
      ],
      "execution_count": 102,
      "outputs": []
    },
    {
      "cell_type": "code",
      "metadata": {
        "id": "7YajN_dWNzmj"
      },
      "source": [
        "class SurfacePredictor(pl.LightningModule):\n",
        "\n",
        "  def __init__(self, n_features, n_classes: int):\n",
        "    super().__init__()\n",
        "    self.model = SequenceModel(n_features, n_classes)\n",
        "    self.criterion = nn.CrossEntropyLoss()\n",
        "\n",
        "  def forward(self, x, labels=None):\n",
        "\n",
        "    output = self.model(x)\n",
        "    loss = 0\n",
        "    if labels is not None:\n",
        "      loss = self.criterion(output, labels)\n",
        "    return loss, output\n",
        "\n",
        "  def training_step(self, batch, batch_idx):\n",
        "    sequences = batch[\"sequence\"]\n",
        "    labels = batch['label']\n",
        "    loss, outputs = self(sequences, labels)\n",
        "    predictions = torch.argmax(outputs, dim=1)\n",
        "    step_accuracy = accuracy(predictions, labels)\n",
        "\n",
        "    self.log(\"train_loss\", loss, prog_bar=True, logger=True)\n",
        "    self.log(\"train_accuracy\", step_accuracy, prog_bar=True, logger=True)\n",
        "    return {\"loss\" : loss, \"accuracy\" : step_accuracy}\n",
        "\n",
        "  def validation_step(self, batch, batch_idx):\n",
        "    sequences = batch[\"sequence\"]\n",
        "    labels = batch['label']\n",
        "    loss, outputs = self(sequences, labels)\n",
        "    predictions = torch.argmax(outputs, dim=1)\n",
        "    step_accuracy = accuracy(predictions, labels)\n",
        "\n",
        "    self.log(\"val_loss\", loss, prog_bar=True, logger=True)\n",
        "    self.log(\"val_accuracy\", step_accuracy, prog_bar=True, logger=True)\n",
        "    return {\"loss\" : loss, \"accuracy\" : step_accuracy}\n",
        "\n",
        "  def test_step(self, batch, batch_idx):\n",
        "    sequences = batch[\"sequence\"]\n",
        "    labels = batch['label']\n",
        "    loss, outputs = self(sequences, labels)\n",
        "    predictions = torch.argmax(outputs, dim=1)\n",
        "    step_accuracy = accuracy(predictions, labels)\n",
        "\n",
        "    self.log(\"test_loss\", loss, prog_bar=True, logger=True)\n",
        "    self.log(\"test_accuracy\", step_accuracy, prog_bar=True, logger=True)\n",
        "    return {\"loss\" : loss, \"accuracy\" : step_accuracy}\n",
        "\n",
        "  def configure_optimizers(self):\n",
        "    return optim.Adam(self.parameters(), lr = 0.0001)\n",
        "\n"
      ],
      "execution_count": 103,
      "outputs": []
    },
    {
      "cell_type": "code",
      "metadata": {
        "id": "3_IbHmCYWCCD"
      },
      "source": [
        "model = SurfacePredictor(\n",
        "    n_features = len(FEATURE_COLUMNS),\n",
        "    n_classes = len(label_encoder.classes_)\n",
        ")"
      ],
      "execution_count": 106,
      "outputs": []
    },
    {
      "cell_type": "code",
      "metadata": {
        "id": "cYxh8N-HWXgq"
      },
      "source": [
        "%load_ext tensorboard\n",
        "%tensorboard --logdir ./Lightning_logs"
      ],
      "execution_count": null,
      "outputs": []
    },
    {
      "cell_type": "code",
      "metadata": {
        "colab": {
          "base_uri": "https://localhost:8080/"
        },
        "id": "fIcuynaOX4XI",
        "outputId": "6be50095-68b9-48b4-cfd2-774d869ebed3"
      },
      "source": [
        "checkpoint_callback = ModelCheckpoint(\n",
        "    dirpath= 'checkpoints',\n",
        "    filename='best-checkpoint',\n",
        "    save_top_k = 1,\n",
        "    verbose=True,\n",
        "    monitor=\"val_loss\",\n",
        "    mode = \"min\"\n",
        "\n",
        ")\n",
        "\n",
        "logger = TensorBoardLogger(\"Lightning_logs\", name=\"surface\")\n",
        "\n",
        "trainer = pl.Trainer(\n",
        "    logger = logger,\n",
        "    checkpoint_callback= checkpoint_callback,\n",
        "    max_epochs= N_EPOCHS,\n",
        "    gpus= 0,\n",
        "    progress_bar_refresh_rate=30\n",
        "\n",
        "    \n",
        ")"
      ],
      "execution_count": 107,
      "outputs": [
        {
          "output_type": "stream",
          "text": [
            "GPU available: False, used: False\n",
            "TPU available: None, using: 0 TPU cores\n"
          ],
          "name": "stderr"
        }
      ]
    },
    {
      "cell_type": "code",
      "metadata": {
        "colab": {
          "base_uri": "https://localhost:8080/",
          "height": 319,
          "referenced_widgets": [
            "5a8337fe20f445b1b8ef1e2fc952349d",
            "c313038205bf4b19993a6544adf96835",
            "ba72d15fe7da4901b348eaf6941855e9",
            "f990afa3486146b2b1824cd27d2a335b",
            "2a1ea8ea022f445f83952e7daca799f4",
            "936d23402c8d405b987a97d571072631",
            "a83e07108ea9410f8aa69ef34d37bbf8",
            "c4fdf2ac10c6400487fa31e801b3b476",
            "bc1d9c9e689447f7a426a7109ff9fd01",
            "3c3fefb5b41c4ee7a3ea6c38d0167d76",
            "b21610fde5274498af9b3036117cd365",
            "f53aceba223747d9ad50f3254dd4b6c1",
            "638831027b904baf8fb1d3a043a09131",
            "b3d2cc6f4de5431aab7ca99334dec6fa",
            "a2382021c1344ad39b81b542d20c003f",
            "30753175644849bd9a8f771a8ea7badf",
            "6c44fd48f2364efc9116605e2ac3c94d",
            "3994063205c741d88b2ee1692b4cb9d9",
            "0efae397329c4ac4a1ba83054d4b7854",
            "fceb6c2e55594a58bfa66d7f9fba6c44",
            "4b1c336edefa48a8a3594227e5d3b26b",
            "ce3b9658c31e4d54b45f359ee5183c95",
            "2160c7490c6a4ba3ba4a6e21f7f89ce7",
            "1246d6408451428f81d69ab34c58ad11",
            "28239826a6094c1d905d1e6d0224d149",
            "bb289dd13169428ba901c5533ded576e",
            "2b0dca4c7c48479987a435329ffb05d6",
            "4838830dfc32436fa51f3a099aec48b2",
            "5b07ee254533485db2c49b4d68e5acb1",
            "ed787d9038fa4390a31c33ff74214e39",
            "e6ece6ad3129495681f35deb103a12a8",
            "21754d1765ac4a9eb984cb68c4ae9b22"
          ]
        },
        "id": "QL1asZq2Zd35",
        "outputId": "aad5e06c-7e08-43c5-bea5-061d4b6d3ef9"
      },
      "source": [
        "trainer.fit(model, data_module)"
      ],
      "execution_count": 108,
      "outputs": [
        {
          "output_type": "stream",
          "text": [
            "\n",
            "  | Name      | Type             | Params\n",
            "-----------------------------------------------\n",
            "0 | model     | SequenceModel    | 1.3 M \n",
            "1 | criterion | CrossEntropyLoss | 0     \n",
            "-----------------------------------------------\n",
            "1.3 M     Trainable params\n",
            "0         Non-trainable params\n",
            "1.3 M     Total params\n",
            "5.310     Total estimated model params size (MB)\n"
          ],
          "name": "stderr"
        },
        {
          "output_type": "display_data",
          "data": {
            "application/vnd.jupyter.widget-view+json": {
              "model_id": "5a8337fe20f445b1b8ef1e2fc952349d",
              "version_minor": 0,
              "version_major": 2
            },
            "text/plain": [
              "HBox(children=(FloatProgress(value=1.0, bar_style='info', description='Validation sanity check', layout=Layout…"
            ]
          },
          "metadata": {
            "tags": []
          }
        },
        {
          "output_type": "stream",
          "text": [
            "\r"
          ],
          "name": "stdout"
        },
        {
          "output_type": "display_data",
          "data": {
            "application/vnd.jupyter.widget-view+json": {
              "model_id": "bc1d9c9e689447f7a426a7109ff9fd01",
              "version_minor": 0,
              "version_major": 2
            },
            "text/plain": [
              "HBox(children=(FloatProgress(value=1.0, bar_style='info', description='Training', layout=Layout(flex='2'), max…"
            ]
          },
          "metadata": {
            "tags": []
          }
        },
        {
          "output_type": "display_data",
          "data": {
            "application/vnd.jupyter.widget-view+json": {
              "model_id": "6c44fd48f2364efc9116605e2ac3c94d",
              "version_minor": 0,
              "version_major": 2
            },
            "text/plain": [
              "HBox(children=(FloatProgress(value=1.0, bar_style='info', description='Validating', layout=Layout(flex='2'), m…"
            ]
          },
          "metadata": {
            "tags": []
          }
        },
        {
          "output_type": "stream",
          "text": [
            "Epoch 0, global step 1: val_loss reached inf (best inf), saving model to \"/content/checkpoints/best-checkpoint.ckpt\" as top 1\n"
          ],
          "name": "stderr"
        },
        {
          "output_type": "display_data",
          "data": {
            "application/vnd.jupyter.widget-view+json": {
              "model_id": "28239826a6094c1d905d1e6d0224d149",
              "version_minor": 0,
              "version_major": 2
            },
            "text/plain": [
              "HBox(children=(FloatProgress(value=1.0, bar_style='info', description='Validating', layout=Layout(flex='2'), m…"
            ]
          },
          "metadata": {
            "tags": []
          }
        },
        {
          "output_type": "stream",
          "text": [
            "Epoch 1, step 3: val_loss was not in top 1\n"
          ],
          "name": "stderr"
        },
        {
          "output_type": "stream",
          "text": [
            "\n"
          ],
          "name": "stdout"
        },
        {
          "output_type": "execute_result",
          "data": {
            "text/plain": [
              "1"
            ]
          },
          "metadata": {
            "tags": []
          },
          "execution_count": 108
        }
      ]
    },
    {
      "cell_type": "code",
      "metadata": {
        "colab": {
          "base_uri": "https://localhost:8080/",
          "height": 253,
          "referenced_widgets": [
            "ed11188ab4974130a4917a21c5d74f09",
            "09d3cea137c34684bc22d1299d5a87c5",
            "e2b8694c4cb64765be523674d7f989cd",
            "6f596fd7a7174e8eab962a0719c19689",
            "389c0db882db42eab06b5452d143edaa",
            "3057a0a9b9b740e08764935c5647cbd8",
            "b2706bd8d66c4d53b26cdc5a95c3611e",
            "7e1c1ef86ae64b0683d4df9a1bc3fdd1"
          ]
        },
        "id": "TPUDeDncZ-wp",
        "outputId": "048db0f2-a28a-4afb-a34b-4bef962821a3"
      },
      "source": [
        "trainer.test()"
      ],
      "execution_count": null,
      "outputs": [
        {
          "output_type": "display_data",
          "data": {
            "application/vnd.jupyter.widget-view+json": {
              "model_id": "ed11188ab4974130a4917a21c5d74f09",
              "version_minor": 0,
              "version_major": 2
            },
            "text/plain": [
              "HBox(children=(FloatProgress(value=1.0, bar_style='info', description='Testing', layout=Layout(flex='2'), max=…"
            ]
          },
          "metadata": {
            "tags": []
          }
        },
        {
          "output_type": "stream",
          "text": [
            "\n",
            "--------------------------------------------------------------------------------\n",
            "DATALOADER:0 TEST RESULTS\n",
            "{'accuracy': 0.21666666865348816,\n",
            " 'loss': 2.1706924438476562,\n",
            " 'test_accuracy': 0.13467656075954437,\n",
            " 'test_loss': 2.1817288398742676}\n",
            "--------------------------------------------------------------------------------\n"
          ],
          "name": "stdout"
        },
        {
          "output_type": "execute_result",
          "data": {
            "text/plain": [
              "[{'accuracy': 0.21666666865348816,\n",
              "  'loss': 2.1706924438476562,\n",
              "  'test_accuracy': 0.13467656075954437,\n",
              "  'test_loss': 2.1817288398742676}]"
            ]
          },
          "metadata": {
            "tags": []
          },
          "execution_count": 116
        }
      ]
    },
    {
      "cell_type": "markdown",
      "metadata": {
        "id": "x7ZSYddtiFRo"
      },
      "source": [
        "## Predictions"
      ]
    },
    {
      "cell_type": "code",
      "metadata": {
        "id": "NwnXYyslhlON"
      },
      "source": [
        "trained_model = SurfacePredictor.load_from_checkpoint(\n",
        "    trainer.checkpoint_callback.best_model_path,\n",
        "    n_features=len(FEATURE_COLUMNS),\n",
        "    n_classes= len(label_encoder.classes_)\n",
        ")\n",
        "\n",
        "trained_model.freeze()"
      ],
      "execution_count": 109,
      "outputs": []
    },
    {
      "cell_type": "code",
      "metadata": {
        "colab": {
          "base_uri": "https://localhost:8080/",
          "height": 66,
          "referenced_widgets": [
            "9d0b17fca80d4865933d9552711eaee9",
            "52f9760dd7d441dfafa2325f5c1739ae",
            "7d20c46c915b449a8da37760db2d8ca3",
            "3655b56286ac43cd98a52024ba1aa736",
            "ab668804f499485fb574daca48802d43",
            "43ad321c07744c8892d8b3786fdc0c3d",
            "0bdce991d2b94746936d551b8a252870",
            "d201ba1d57b842cf825e5bdb52be7fc6"
          ]
        },
        "id": "avHudhq4io-2",
        "outputId": "b288f71a-e29d-4483-d9fa-005ad46d88b6"
      },
      "source": [
        "test_dataset = SurfaceDataset(test_sequences)\n",
        "\n",
        "predictions = []\n",
        "labels = []\n",
        "\n",
        "for item in tqdm(test_dataset):\n",
        "\n",
        "  sequence= item[\"sequence\"]\n",
        "  label = item[\"label\"]\n",
        "\n",
        "  _, output = trained_model(sequence.unsqueeze(dim=0))\n",
        "  prediction = torch.argmax(output, dim=1)\n",
        "  predictions.append(prediction.item())\n",
        "  labels.append(label.item())\n"
      ],
      "execution_count": 110,
      "outputs": [
        {
          "output_type": "display_data",
          "data": {
            "application/vnd.jupyter.widget-view+json": {
              "model_id": "9d0b17fca80d4865933d9552711eaee9",
              "version_minor": 0,
              "version_major": 2
            },
            "text/plain": [
              "HBox(children=(FloatProgress(value=0.0, max=6974.0), HTML(value='')))"
            ]
          },
          "metadata": {
            "tags": []
          }
        },
        {
          "output_type": "stream",
          "text": [
            "\n"
          ],
          "name": "stdout"
        }
      ]
    },
    {
      "cell_type": "code",
      "metadata": {
        "id": "YHpYe4EPkuhM"
      },
      "source": [
        "def show_confusion_matrix(confusion_matrix):\n",
        "\n",
        "  hmap = sns.heatmap(confusion_matrix, annot=True, fmt= \"d\", cmap= \"Blues\")\n",
        "  hmap.yaxis.set_ticklabels(hmap.yaxis.get_ticklabels(), rotation= 0, ha = 'right')\n",
        "  hmap.xaxis.set_ticklabels(hmap.xaxis.get_ticklabels(), rotation= 30, ha = 'right')\n",
        "  plt.ylabel('Excepted Activity')\n",
        "  plt.xlabel('Predicted Activity');"
      ],
      "execution_count": 128,
      "outputs": []
    },
    {
      "cell_type": "code",
      "metadata": {
        "id": "Kcy2wXVIH2Ah"
      },
      "source": [
        "from sklearn import metrics\n",
        "from sklearn.metrics import precision_score, recall_score"
      ],
      "execution_count": 129,
      "outputs": []
    },
    {
      "cell_type": "code",
      "metadata": {
        "colab": {
          "base_uri": "https://localhost:8080/"
        },
        "id": "geEa_iPDHcLX",
        "outputId": "f7faa588-9c2d-4740-c7e4-36e601d505eb"
      },
      "source": [
        "print(\"Accuracy:\", metrics.accuracy_score(labels, predictions))"
      ],
      "execution_count": 120,
      "outputs": [
        {
          "output_type": "stream",
          "text": [
            "Accuracy: 0.19845139088041297\n"
          ],
          "name": "stdout"
        }
      ]
    },
    {
      "cell_type": "code",
      "metadata": {
        "colab": {
          "base_uri": "https://localhost:8080/"
        },
        "id": "z107WZcrIYd8",
        "outputId": "0416b558-774d-4209-a7e9-bd8b6703d415"
      },
      "source": [
        "print(\"Precision:\", metrics.precision_score(labels, predictions, average='macro'))"
      ],
      "execution_count": 125,
      "outputs": [
        {
          "output_type": "stream",
          "text": [
            "Precision: 0.08214924584615318\n"
          ],
          "name": "stdout"
        },
        {
          "output_type": "stream",
          "text": [
            "/usr/local/lib/python3.7/dist-packages/sklearn/metrics/_classification.py:1272: UndefinedMetricWarning: Precision is ill-defined and being set to 0.0 in labels with no predicted samples. Use `zero_division` parameter to control this behavior.\n",
            "  _warn_prf(average, modifier, msg_start, len(result))\n"
          ],
          "name": "stderr"
        }
      ]
    },
    {
      "cell_type": "code",
      "metadata": {
        "colab": {
          "base_uri": "https://localhost:8080/"
        },
        "id": "o6g_5qIbIcvx",
        "outputId": "ed498236-c6df-4f26-dc2a-8d54a1ff9a0c"
      },
      "source": [
        "print(\"Recall:\", metrics.recall_score(labels, predictions,average='macro'))"
      ],
      "execution_count": 127,
      "outputs": [
        {
          "output_type": "stream",
          "text": [
            "Recall: 0.16694788123693685\n"
          ],
          "name": "stdout"
        }
      ]
    },
    {
      "cell_type": "code",
      "metadata": {
        "colab": {
          "base_uri": "https://localhost:8080/",
          "height": 235
        },
        "id": "7lbXuTSsGO0d",
        "outputId": "d7360b4e-6f78-4ca0-ce68-fd7b5f5d1f22"
      },
      "source": [
        "cm = confusion_matrix(labels, predictions)\n",
        "df_cm = pd.DataFrame(\n",
        "    cm, index= ['Walking','Running','Nordic Walking','Ascending Stairs','Descending Stairs','Rope Jumping'], columns=['Walking','Running','Nordic Walking','Ascending Stairs','Descending Stairs','Rope Jumping']\n",
        ")\n",
        "df_cm"
      ],
      "execution_count": 117,
      "outputs": [
        {
          "output_type": "execute_result",
          "data": {
            "text/html": [
              "<div>\n",
              "<style scoped>\n",
              "    .dataframe tbody tr th:only-of-type {\n",
              "        vertical-align: middle;\n",
              "    }\n",
              "\n",
              "    .dataframe tbody tr th {\n",
              "        vertical-align: top;\n",
              "    }\n",
              "\n",
              "    .dataframe thead th {\n",
              "        text-align: right;\n",
              "    }\n",
              "</style>\n",
              "<table border=\"1\" class=\"dataframe\">\n",
              "  <thead>\n",
              "    <tr style=\"text-align: right;\">\n",
              "      <th></th>\n",
              "      <th>Walking</th>\n",
              "      <th>Running</th>\n",
              "      <th>Nordic Walking</th>\n",
              "      <th>Ascending Stairs</th>\n",
              "      <th>Descending Stairs</th>\n",
              "      <th>Rope Jumping</th>\n",
              "    </tr>\n",
              "  </thead>\n",
              "  <tbody>\n",
              "    <tr>\n",
              "      <th>Walking</th>\n",
              "      <td>35</td>\n",
              "      <td>1413</td>\n",
              "      <td>4</td>\n",
              "      <td>0</td>\n",
              "      <td>0</td>\n",
              "      <td>0</td>\n",
              "    </tr>\n",
              "    <tr>\n",
              "      <th>Running</th>\n",
              "      <td>30</td>\n",
              "      <td>1348</td>\n",
              "      <td>2</td>\n",
              "      <td>0</td>\n",
              "      <td>0</td>\n",
              "      <td>0</td>\n",
              "    </tr>\n",
              "    <tr>\n",
              "      <th>Nordic Walking</th>\n",
              "      <td>35</td>\n",
              "      <td>1261</td>\n",
              "      <td>1</td>\n",
              "      <td>0</td>\n",
              "      <td>0</td>\n",
              "      <td>0</td>\n",
              "    </tr>\n",
              "    <tr>\n",
              "      <th>Ascending Stairs</th>\n",
              "      <td>21</td>\n",
              "      <td>1002</td>\n",
              "      <td>1</td>\n",
              "      <td>0</td>\n",
              "      <td>0</td>\n",
              "      <td>0</td>\n",
              "    </tr>\n",
              "    <tr>\n",
              "      <th>Descending Stairs</th>\n",
              "      <td>31</td>\n",
              "      <td>992</td>\n",
              "      <td>2</td>\n",
              "      <td>0</td>\n",
              "      <td>0</td>\n",
              "      <td>0</td>\n",
              "    </tr>\n",
              "    <tr>\n",
              "      <th>Rope Jumping</th>\n",
              "      <td>20</td>\n",
              "      <td>775</td>\n",
              "      <td>1</td>\n",
              "      <td>0</td>\n",
              "      <td>0</td>\n",
              "      <td>0</td>\n",
              "    </tr>\n",
              "  </tbody>\n",
              "</table>\n",
              "</div>"
            ],
            "text/plain": [
              "                   Walking  Running  ...  Descending Stairs  Rope Jumping\n",
              "Walking                 35     1413  ...                  0             0\n",
              "Running                 30     1348  ...                  0             0\n",
              "Nordic Walking          35     1261  ...                  0             0\n",
              "Ascending Stairs        21     1002  ...                  0             0\n",
              "Descending Stairs       31      992  ...                  0             0\n",
              "Rope Jumping            20      775  ...                  0             0\n",
              "\n",
              "[6 rows x 6 columns]"
            ]
          },
          "metadata": {
            "tags": []
          },
          "execution_count": 117
        }
      ]
    },
    {
      "cell_type": "code",
      "metadata": {
        "colab": {
          "base_uri": "https://localhost:8080/",
          "height": 673
        },
        "id": "RnI0BpkImJ5p",
        "outputId": "ae2f455b-2ba9-4fff-ad2c-679d1c42924d"
      },
      "source": [
        "show_confusion_matrix(df_cm)"
      ],
      "execution_count": 130,
      "outputs": [
        {
          "output_type": "display_data",
          "data": {
            "image/png": "[encoded data removed]",
            "text/plain": [
              "<Figure size 1152x720 with 2 Axes>"
            ]
          },
          "metadata": {
            "tags": [],
            "image/png": {
              "width": 990,
              "height": 656
            }
          }
        }
      ]
    },
    {
      "cell_type": "code",
      "metadata": {
        "id": "TXk5AilEmZDP"
      },
      "source": [
        ""
      ],
      "execution_count": null,
      "outputs": []
    }
  ]
}